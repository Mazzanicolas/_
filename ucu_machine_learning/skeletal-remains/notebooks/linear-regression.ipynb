{
 "cells": [
  {
   "cell_type": "markdown",
   "metadata": {},
   "source": [
    "### Importando librerias"
   ]
  },
  {
   "cell_type": "code",
   "execution_count": 78,
   "metadata": {},
   "outputs": [],
   "source": [
    "import missingno as msno\n",
    "import pandas as pd\n",
    "import pandas_profiling as pf\n",
    "import numpy as np\n",
    "import matplotlib.pyplot as plt\n",
    "import matplotlib\n",
    "import seaborn as sns\n",
    "matplotlib.rcParams['figure.figsize'] = [15, 10]"
   ]
  },
  {
   "cell_type": "code",
   "execution_count": 33,
   "metadata": {},
   "outputs": [],
   "source": [
    "data = pd.read_csv('bones.csv')"
   ]
  },
  {
   "cell_type": "code",
   "execution_count": 34,
   "metadata": {},
   "outputs": [
    {
     "data": {
      "text/html": [
       "<div>\n",
       "<style scoped>\n",
       "    .dataframe tbody tr th:only-of-type {\n",
       "        vertical-align: middle;\n",
       "    }\n",
       "\n",
       "    .dataframe tbody tr th {\n",
       "        vertical-align: top;\n",
       "    }\n",
       "\n",
       "    .dataframe thead th {\n",
       "        text-align: right;\n",
       "    }\n",
       "</style>\n",
       "<table border=\"1\" class=\"dataframe\">\n",
       "  <thead>\n",
       "    <tr style=\"text-align: right;\">\n",
       "      <th></th>\n",
       "      <th>ID</th>\n",
       "      <th>Location</th>\n",
       "      <th>Site_Number</th>\n",
       "      <th>Age_Minumum</th>\n",
       "      <th>Age_Maximum</th>\n",
       "      <th>Sex</th>\n",
       "      <th>Grave Number</th>\n",
       "      <th>Canine number</th>\n",
       "      <th>Canine largest age</th>\n",
       "      <th>Canine 2nd largest age</th>\n",
       "      <th>...</th>\n",
       "      <th>Height in grave</th>\n",
       "      <th>Abnormalities Vertebras</th>\n",
       "      <th>Femur left</th>\n",
       "      <th>Femur right</th>\n",
       "      <th>Abnormalities Femur</th>\n",
       "      <th>Notes</th>\n",
       "      <th>Date</th>\n",
       "      <th>Signature</th>\n",
       "      <th>Hyperplasia</th>\n",
       "      <th>Teeth Scorable</th>\n",
       "    </tr>\n",
       "  </thead>\n",
       "  <tbody>\n",
       "    <tr>\n",
       "      <th>0</th>\n",
       "      <td>1</td>\n",
       "      <td>Ribe</td>\n",
       "      <td>ASR1015</td>\n",
       "      <td>20</td>\n",
       "      <td>24.0</td>\n",
       "      <td>Male</td>\n",
       "      <td>G40</td>\n",
       "      <td>2.0</td>\n",
       "      <td>3.0</td>\n",
       "      <td>5.0</td>\n",
       "      <td>...</td>\n",
       "      <td>173.5</td>\n",
       "      <td>NaN</td>\n",
       "      <td>49.6</td>\n",
       "      <td>50.0</td>\n",
       "      <td>Br?kket Postmortalt</td>\n",
       "      <td>NaN</td>\n",
       "      <td>5/5/2008</td>\n",
       "      <td>Mwod</td>\n",
       "      <td>True</td>\n",
       "      <td>True</td>\n",
       "    </tr>\n",
       "    <tr>\n",
       "      <th>1</th>\n",
       "      <td>4</td>\n",
       "      <td>Ribe</td>\n",
       "      <td>ASR1015</td>\n",
       "      <td>35</td>\n",
       "      <td>45.0</td>\n",
       "      <td>Male</td>\n",
       "      <td>G312</td>\n",
       "      <td>3.0</td>\n",
       "      <td>4.0</td>\n",
       "      <td>4.5</td>\n",
       "      <td>...</td>\n",
       "      <td>170.0</td>\n",
       "      <td>NaN</td>\n",
       "      <td>48.4</td>\n",
       "      <td>48.5</td>\n",
       "      <td>NaN</td>\n",
       "      <td>l?bedannelser</td>\n",
       "      <td>5/8/2008</td>\n",
       "      <td>MWOD</td>\n",
       "      <td>True</td>\n",
       "      <td>True</td>\n",
       "    </tr>\n",
       "    <tr>\n",
       "      <th>2</th>\n",
       "      <td>5</td>\n",
       "      <td>Ribe</td>\n",
       "      <td>ASR1015</td>\n",
       "      <td>50</td>\n",
       "      <td>60.0</td>\n",
       "      <td>Male</td>\n",
       "      <td>G229</td>\n",
       "      <td>0.0</td>\n",
       "      <td>0.0</td>\n",
       "      <td>0.0</td>\n",
       "      <td>...</td>\n",
       "      <td>171.5</td>\n",
       "      <td>To hvirvler fusioneret - har ingen betydning f...</td>\n",
       "      <td>50.8</td>\n",
       "      <td>51.3</td>\n",
       "      <td>NaN</td>\n",
       "      <td>NaN</td>\n",
       "      <td>5/8/2008</td>\n",
       "      <td>MWOD</td>\n",
       "      <td>False</td>\n",
       "      <td>True</td>\n",
       "    </tr>\n",
       "    <tr>\n",
       "      <th>3</th>\n",
       "      <td>6</td>\n",
       "      <td>Ribe</td>\n",
       "      <td>ASR1015</td>\n",
       "      <td>30</td>\n",
       "      <td>40.0</td>\n",
       "      <td>Male</td>\n",
       "      <td>G257</td>\n",
       "      <td>NaN</td>\n",
       "      <td>NaN</td>\n",
       "      <td>NaN</td>\n",
       "      <td>...</td>\n",
       "      <td>165.0</td>\n",
       "      <td>NaN</td>\n",
       "      <td>45.4</td>\n",
       "      <td>NaN</td>\n",
       "      <td>NaN</td>\n",
       "      <td>Male?, h?jre femur kan ikke m?les da nedbrudt,...</td>\n",
       "      <td>5/8/2008</td>\n",
       "      <td>MWOD</td>\n",
       "      <td>False</td>\n",
       "      <td>False</td>\n",
       "    </tr>\n",
       "    <tr>\n",
       "      <th>4</th>\n",
       "      <td>7</td>\n",
       "      <td>Ribe</td>\n",
       "      <td>ASR1015</td>\n",
       "      <td>45</td>\n",
       "      <td>55.0</td>\n",
       "      <td>Male</td>\n",
       "      <td>G74</td>\n",
       "      <td>NaN</td>\n",
       "      <td>NaN</td>\n",
       "      <td>NaN</td>\n",
       "      <td>...</td>\n",
       "      <td>165.0</td>\n",
       "      <td>NaN</td>\n",
       "      <td>47.5</td>\n",
       "      <td>46.6</td>\n",
       "      <td>NaN</td>\n",
       "      <td>kraniet mangler - kig efter om det er p? udsti...</td>\n",
       "      <td>NaN</td>\n",
       "      <td>NaN</td>\n",
       "      <td>False</td>\n",
       "      <td>False</td>\n",
       "    </tr>\n",
       "  </tbody>\n",
       "</table>\n",
       "<p>5 rows × 23 columns</p>\n",
       "</div>"
      ],
      "text/plain": [
       "   ID Location Site_Number  Age_Minumum  Age_Maximum   Sex Grave Number  \\\n",
       "0   1     Ribe     ASR1015           20         24.0  Male          G40   \n",
       "1   4     Ribe     ASR1015           35         45.0  Male         G312   \n",
       "2   5     Ribe     ASR1015           50         60.0  Male         G229   \n",
       "3   6     Ribe     ASR1015           30         40.0  Male         G257   \n",
       "4   7     Ribe     ASR1015           45         55.0  Male          G74   \n",
       "\n",
       "   Canine number  Canine largest age  Canine 2nd largest age      ...        \\\n",
       "0            2.0                 3.0                     5.0      ...         \n",
       "1            3.0                 4.0                     4.5      ...         \n",
       "2            0.0                 0.0                     0.0      ...         \n",
       "3            NaN                 NaN                     NaN      ...         \n",
       "4            NaN                 NaN                     NaN      ...         \n",
       "\n",
       "   Height in grave                            Abnormalities Vertebras  \\\n",
       "0            173.5                                                NaN   \n",
       "1            170.0                                                NaN   \n",
       "2            171.5  To hvirvler fusioneret - har ingen betydning f...   \n",
       "3            165.0                                                NaN   \n",
       "4            165.0                                                NaN   \n",
       "\n",
       "   Femur left  Femur right  Abnormalities Femur  \\\n",
       "0        49.6         50.0  Br?kket Postmortalt   \n",
       "1        48.4         48.5                  NaN   \n",
       "2        50.8         51.3                  NaN   \n",
       "3        45.4          NaN                  NaN   \n",
       "4        47.5         46.6                  NaN   \n",
       "\n",
       "                                               Notes      Date Signature  \\\n",
       "0                                                NaN  5/5/2008      Mwod   \n",
       "1                                      l?bedannelser  5/8/2008      MWOD   \n",
       "2                                                NaN  5/8/2008      MWOD   \n",
       "3  Male?, h?jre femur kan ikke m?les da nedbrudt,...  5/8/2008      MWOD   \n",
       "4  kraniet mangler - kig efter om det er p? udsti...       NaN       NaN   \n",
       "\n",
       "  Hyperplasia Teeth Scorable  \n",
       "0        True           True  \n",
       "1        True           True  \n",
       "2       False           True  \n",
       "3       False          False  \n",
       "4       False          False  \n",
       "\n",
       "[5 rows x 23 columns]"
      ]
     },
     "execution_count": 34,
     "metadata": {},
     "output_type": "execute_result"
    }
   ],
   "source": [
    "data.head()"
   ]
  },
  {
   "cell_type": "markdown",
   "metadata": {},
   "source": [
    "# Missing Values"
   ]
  },
  {
   "cell_type": "markdown",
   "metadata": {},
   "source": [
    "Vamos a utilizar la libreria `missingno` para ver la estructura de los datos faltantes."
   ]
  },
  {
   "cell_type": "code",
   "execution_count": 35,
   "metadata": {},
   "outputs": [
    {
     "data": {
      "text/plain": [
       "<matplotlib.axes._subplots.AxesSubplot at 0x1c7de6b27f0>"
      ]
     },
     "execution_count": 35,
     "metadata": {},
     "output_type": "execute_result"
    },
    {
     "data": {
      "image/png": "[encoded data removed]",
      "text/plain": [
       "<Figure size 1800x720 with 2 Axes>"
      ]
     },
     "metadata": {
      "needs_background": "light"
     },
     "output_type": "display_data"
    }
   ],
   "source": [
    "msno.matrix(data)"
   ]
  },
  {
   "cell_type": "code",
   "execution_count": 36,
   "metadata": {},
   "outputs": [
    {
     "data": {
      "text/plain": [
       "<matplotlib.axes._subplots.AxesSubplot at 0x1c7de67e8d0>"
      ]
     },
     "execution_count": 36,
     "metadata": {},
     "output_type": "execute_result"
    },
    {
     "data": {
      "image/png": "[encoded data removed]",
      "text/plain": [
       "<Figure size 1728x720 with 3 Axes>"
      ]
     },
     "metadata": {
      "needs_background": "light"
     },
     "output_type": "display_data"
    }
   ],
   "source": [
    "msno.bar(data)"
   ]
  },
  {
   "cell_type": "markdown",
   "metadata": {},
   "source": [
    "Podemos ver que hay una gran cantidad de datos faltantes, sobretodo en `Abnormalities Vertebras` y `Abnormalities Femur`. Como el objetivo de este estudio es predecir la altura en base al tamaño del femur vamos a comenzar por solucionar el problema con los missng values de `Femur left` y `Femur right`.\n",
    "\n",
    "Como vimos en el analisis de atributos existen valores iguales a 0, para nosotros esos valores son iguales a `NaN` ya que no aporntan a la solucion del problema.\n"
   ]
  },
  {
   "cell_type": "code",
   "execution_count": 37,
   "metadata": {},
   "outputs": [],
   "source": [
    "data.loc[data['Femur left']      == 0.0] = np.nan\n",
    "data.loc[data['Femur right']     == 0.0] = np.nan\n",
    "data.loc[data['Height in grave'] == 0.0] = np.nan"
   ]
  },
  {
   "cell_type": "markdown",
   "metadata": {},
   "source": [
    "Vamos a analizar los dataos faltantes para los valores que vamos a utilizar `Femur left` y `Femur right`"
   ]
  },
  {
   "cell_type": "code",
   "execution_count": 38,
   "metadata": {},
   "outputs": [],
   "source": [
    "femur_size = data[['ID','Femur left','Femur right']]"
   ]
  },
  {
   "cell_type": "code",
   "execution_count": 39,
   "metadata": {},
   "outputs": [
    {
     "data": {
      "text/plain": [
       "<matplotlib.axes._subplots.AxesSubplot at 0x1c7e02189e8>"
      ]
     },
     "execution_count": 39,
     "metadata": {},
     "output_type": "execute_result"
    },
    {
     "data": {
      "image/png": "[encoded data removed]",
      "text/plain": [
       "<Figure size 1800x720 with 2 Axes>"
      ]
     },
     "metadata": {
      "needs_background": "light"
     },
     "output_type": "display_data"
    }
   ],
   "source": [
    "msno.matrix(femur_size[['Femur left','Femur right']])"
   ]
  },
  {
   "cell_type": "code",
   "execution_count": 40,
   "metadata": {},
   "outputs": [],
   "source": [
    "full_values_femur = pd.DataFrame(data=femur_size)"
   ]
  },
  {
   "cell_type": "code",
   "execution_count": 41,
   "metadata": {},
   "outputs": [],
   "source": [
    "full_values_femur = femur_size.dropna()"
   ]
  },
  {
   "cell_type": "markdown",
   "metadata": {},
   "source": [
    "Una vez eliminados los valores `NaN` podemos ver de que restos tenemos el tamaño de ambos femur y ver si existe una gran diferencia de tamaño entre ellos para mas adelante sustituir los faltantes con su contraparte."
   ]
  },
  {
   "cell_type": "code",
   "execution_count": 42,
   "metadata": {},
   "outputs": [
    {
     "data": {
      "text/plain": [
       "<matplotlib.axes._subplots.AxesSubplot at 0x1c7df579710>"
      ]
     },
     "execution_count": 42,
     "metadata": {},
     "output_type": "execute_result"
    },
    {
     "data": {
      "image/png": "[encoded data removed]",
      "text/plain": [
       "<Figure size 1800x720 with 2 Axes>"
      ]
     },
     "metadata": {
      "needs_background": "light"
     },
     "output_type": "display_data"
    }
   ],
   "source": [
    "msno.matrix(full_values_femur[['Femur left','Femur right']])"
   ]
  },
  {
   "cell_type": "code",
   "execution_count": 43,
   "metadata": {},
   "outputs": [],
   "source": [
    "r_femur__l_femur_difference = pd.DataFrame()\n",
    "r_femur__l_femur_difference['Difference'] = abs(full_values_femur['Femur left'] - full_values_femur['Femur right'])"
   ]
  },
  {
   "cell_type": "code",
   "execution_count": 44,
   "metadata": {},
   "outputs": [],
   "source": [
    "full_values_femur = r_femur__l_femur_difference.Difference.sort_values(ascending=False)"
   ]
  },
  {
   "cell_type": "code",
   "execution_count": 45,
   "metadata": {},
   "outputs": [],
   "source": [
    "full_values_femur = pd.DataFrame(full_values_femur.head(5))"
   ]
  },
  {
   "cell_type": "markdown",
   "metadata": {},
   "source": [
    "# Outlyers"
   ]
  },
  {
   "cell_type": "markdown",
   "metadata": {},
   "source": [
    "Podemos ver que la diferencia de tamaño es muy poca entre los femurs"
   ]
  },
  {
   "cell_type": "code",
   "execution_count": 46,
   "metadata": {},
   "outputs": [
    {
     "data": {
      "text/html": [
       "<div>\n",
       "<style scoped>\n",
       "    .dataframe tbody tr th:only-of-type {\n",
       "        vertical-align: middle;\n",
       "    }\n",
       "\n",
       "    .dataframe tbody tr th {\n",
       "        vertical-align: top;\n",
       "    }\n",
       "\n",
       "    .dataframe thead th {\n",
       "        text-align: right;\n",
       "    }\n",
       "</style>\n",
       "<table border=\"1\" class=\"dataframe\">\n",
       "  <thead>\n",
       "    <tr style=\"text-align: right;\">\n",
       "      <th></th>\n",
       "      <th>Difference</th>\n",
       "    </tr>\n",
       "  </thead>\n",
       "  <tbody>\n",
       "    <tr>\n",
       "      <th>count</th>\n",
       "      <td>5.00000</td>\n",
       "    </tr>\n",
       "    <tr>\n",
       "      <th>mean</th>\n",
       "      <td>1.34000</td>\n",
       "    </tr>\n",
       "    <tr>\n",
       "      <th>std</th>\n",
       "      <td>0.74027</td>\n",
       "    </tr>\n",
       "    <tr>\n",
       "      <th>min</th>\n",
       "      <td>0.80000</td>\n",
       "    </tr>\n",
       "    <tr>\n",
       "      <th>25%</th>\n",
       "      <td>0.90000</td>\n",
       "    </tr>\n",
       "    <tr>\n",
       "      <th>50%</th>\n",
       "      <td>1.00000</td>\n",
       "    </tr>\n",
       "    <tr>\n",
       "      <th>75%</th>\n",
       "      <td>1.40000</td>\n",
       "    </tr>\n",
       "    <tr>\n",
       "      <th>max</th>\n",
       "      <td>2.60000</td>\n",
       "    </tr>\n",
       "  </tbody>\n",
       "</table>\n",
       "</div>"
      ],
      "text/plain": [
       "       Difference\n",
       "count     5.00000\n",
       "mean      1.34000\n",
       "std       0.74027\n",
       "min       0.80000\n",
       "25%       0.90000\n",
       "50%       1.00000\n",
       "75%       1.40000\n",
       "max       2.60000"
      ]
     },
     "execution_count": 46,
     "metadata": {},
     "output_type": "execute_result"
    }
   ],
   "source": [
    "full_values_femur.describe()"
   ]
  },
  {
   "cell_type": "code",
   "execution_count": 47,
   "metadata": {},
   "outputs": [
    {
     "data": {
      "text/plain": [
       "<matplotlib.axes._subplots.AxesSubplot at 0x1c7de76f4e0>"
      ]
     },
     "execution_count": 47,
     "metadata": {},
     "output_type": "execute_result"
    },
    {
     "data": {
      "image/png": "[encoded data removed]",
      "text/plain": [
       "<Figure size 144x576 with 1 Axes>"
      ]
     },
     "metadata": {
      "needs_background": "light"
     },
     "output_type": "display_data"
    }
   ],
   "source": [
    "fig, ax = plt.subplots(figsize=(2,8))\n",
    "sns.boxplot(ax=ax, data=full_values_femur)"
   ]
  },
  {
   "cell_type": "markdown",
   "metadata": {},
   "source": [
    "Podemos ver que la diferencia entre el femur derecho e izquierdo  suele ser muy pequeña, asi que vamos a asignarle a los valores faltantes que tienen una contraparte su valor."
   ]
  },
  {
   "cell_type": "code",
   "execution_count": 48,
   "metadata": {},
   "outputs": [],
   "source": [
    "data.loc[data['Femur left'].isnull(),'Femur left']   = data['Femur right']\n",
    "data.loc[data['Femur right'].isnull(),'Femur right'] = data['Femur left']"
   ]
  },
  {
   "cell_type": "code",
   "execution_count": 49,
   "metadata": {},
   "outputs": [
    {
     "data": {
      "text/plain": [
       "26"
      ]
     },
     "execution_count": 49,
     "metadata": {},
     "output_type": "execute_result"
    }
   ],
   "source": [
    "both_missing = data[data['Femur left'].isnull()==True]\n",
    "len(both_missing)"
   ]
  },
  {
   "cell_type": "markdown",
   "metadata": {},
   "source": [
    "Podemos ver que quedamos con 26 de 117 valores NaN para los cuales no sabemos las medidas de ningun femur."
   ]
  },
  {
   "cell_type": "code",
   "execution_count": 52,
   "metadata": {},
   "outputs": [
    {
     "data": {
      "text/html": [
       "<div>\n",
       "<style scoped>\n",
       "    .dataframe tbody tr th:only-of-type {\n",
       "        vertical-align: middle;\n",
       "    }\n",
       "\n",
       "    .dataframe tbody tr th {\n",
       "        vertical-align: top;\n",
       "    }\n",
       "\n",
       "    .dataframe thead th {\n",
       "        text-align: right;\n",
       "    }\n",
       "</style>\n",
       "<table border=\"1\" class=\"dataframe\">\n",
       "  <thead>\n",
       "    <tr style=\"text-align: right;\">\n",
       "      <th></th>\n",
       "      <th>ID</th>\n",
       "      <th>Location</th>\n",
       "      <th>Site_Number</th>\n",
       "      <th>Age_Minumum</th>\n",
       "      <th>Age_Maximum</th>\n",
       "      <th>Sex</th>\n",
       "      <th>Grave Number</th>\n",
       "      <th>Canine number</th>\n",
       "      <th>Canine largest age</th>\n",
       "      <th>Canine 2nd largest age</th>\n",
       "      <th>...</th>\n",
       "      <th>Height in grave</th>\n",
       "      <th>Abnormalities Vertebras</th>\n",
       "      <th>Femur left</th>\n",
       "      <th>Femur right</th>\n",
       "      <th>Abnormalities Femur</th>\n",
       "      <th>Notes</th>\n",
       "      <th>Date</th>\n",
       "      <th>Signature</th>\n",
       "      <th>Hyperplasia</th>\n",
       "      <th>Teeth Scorable</th>\n",
       "    </tr>\n",
       "  </thead>\n",
       "  <tbody>\n",
       "    <tr>\n",
       "      <th>6</th>\n",
       "      <td>9.0</td>\n",
       "      <td>Ribe</td>\n",
       "      <td>ASR1015</td>\n",
       "      <td>50.0</td>\n",
       "      <td>60.0</td>\n",
       "      <td>Male</td>\n",
       "      <td>G377</td>\n",
       "      <td>3.0</td>\n",
       "      <td>3.5</td>\n",
       "      <td>5.0</td>\n",
       "      <td>...</td>\n",
       "      <td>166.0</td>\n",
       "      <td>NaN</td>\n",
       "      <td>NaN</td>\n",
       "      <td>NaN</td>\n",
       "      <td>Kn?kkede postmortalt s? kan ikke m?les</td>\n",
       "      <td>Incisor mere end 1/3 slidt ned</td>\n",
       "      <td>5/8/2008</td>\n",
       "      <td>MWOD</td>\n",
       "      <td>1.0</td>\n",
       "      <td>1.0</td>\n",
       "    </tr>\n",
       "    <tr>\n",
       "      <th>9</th>\n",
       "      <td>12.0</td>\n",
       "      <td>Ribe</td>\n",
       "      <td>ASR1015</td>\n",
       "      <td>50.0</td>\n",
       "      <td>60.0</td>\n",
       "      <td>Female</td>\n",
       "      <td>G104</td>\n",
       "      <td>NaN</td>\n",
       "      <td>NaN</td>\n",
       "      <td>NaN</td>\n",
       "      <td>...</td>\n",
       "      <td>150.0</td>\n",
       "      <td>NaN</td>\n",
       "      <td>NaN</td>\n",
       "      <td>NaN</td>\n",
       "      <td>NaN</td>\n",
       "      <td>Kraniet mangler, kig om det er p? udstilling</td>\n",
       "      <td>5/8/2008</td>\n",
       "      <td>MWOD</td>\n",
       "      <td>0.0</td>\n",
       "      <td>0.0</td>\n",
       "    </tr>\n",
       "    <tr>\n",
       "      <th>10</th>\n",
       "      <td>13.0</td>\n",
       "      <td>Ribe</td>\n",
       "      <td>ASR1015</td>\n",
       "      <td>35.0</td>\n",
       "      <td>44.0</td>\n",
       "      <td>Female</td>\n",
       "      <td>G159</td>\n",
       "      <td>2.0</td>\n",
       "      <td>4.0</td>\n",
       "      <td>4.3</td>\n",
       "      <td>...</td>\n",
       "      <td>158.5</td>\n",
       "      <td>NaN</td>\n",
       "      <td>NaN</td>\n",
       "      <td>NaN</td>\n",
       "      <td>Begge l?rben for nedbrudte til at m?le</td>\n",
       "      <td>NaN</td>\n",
       "      <td>5/8/2008</td>\n",
       "      <td>MWOD</td>\n",
       "      <td>0.0</td>\n",
       "      <td>1.0</td>\n",
       "    </tr>\n",
       "    <tr>\n",
       "      <th>30</th>\n",
       "      <td>NaN</td>\n",
       "      <td>NaN</td>\n",
       "      <td>NaN</td>\n",
       "      <td>NaN</td>\n",
       "      <td>NaN</td>\n",
       "      <td>NaN</td>\n",
       "      <td>NaN</td>\n",
       "      <td>NaN</td>\n",
       "      <td>NaN</td>\n",
       "      <td>NaN</td>\n",
       "      <td>...</td>\n",
       "      <td>NaN</td>\n",
       "      <td>NaN</td>\n",
       "      <td>NaN</td>\n",
       "      <td>NaN</td>\n",
       "      <td>NaN</td>\n",
       "      <td>NaN</td>\n",
       "      <td>NaN</td>\n",
       "      <td>NaN</td>\n",
       "      <td>NaN</td>\n",
       "      <td>NaN</td>\n",
       "    </tr>\n",
       "    <tr>\n",
       "      <th>46</th>\n",
       "      <td>NaN</td>\n",
       "      <td>NaN</td>\n",
       "      <td>NaN</td>\n",
       "      <td>NaN</td>\n",
       "      <td>NaN</td>\n",
       "      <td>NaN</td>\n",
       "      <td>NaN</td>\n",
       "      <td>NaN</td>\n",
       "      <td>NaN</td>\n",
       "      <td>NaN</td>\n",
       "      <td>...</td>\n",
       "      <td>NaN</td>\n",
       "      <td>NaN</td>\n",
       "      <td>NaN</td>\n",
       "      <td>NaN</td>\n",
       "      <td>NaN</td>\n",
       "      <td>NaN</td>\n",
       "      <td>NaN</td>\n",
       "      <td>NaN</td>\n",
       "      <td>NaN</td>\n",
       "      <td>NaN</td>\n",
       "    </tr>\n",
       "    <tr>\n",
       "      <th>52</th>\n",
       "      <td>56.0</td>\n",
       "      <td>Ribe</td>\n",
       "      <td>ASR1015</td>\n",
       "      <td>35.0</td>\n",
       "      <td>40.0</td>\n",
       "      <td>Female</td>\n",
       "      <td>G808</td>\n",
       "      <td>0.0</td>\n",
       "      <td>0.0</td>\n",
       "      <td>0.0</td>\n",
       "      <td>...</td>\n",
       "      <td>153.0</td>\n",
       "      <td>NaN</td>\n",
       "      <td>NaN</td>\n",
       "      <td>NaN</td>\n",
       "      <td>NaN</td>\n",
       "      <td>Intet at kigge p?. Intet kranie. Female?</td>\n",
       "      <td>5/27/2008</td>\n",
       "      <td>MWOD</td>\n",
       "      <td>0.0</td>\n",
       "      <td>0.0</td>\n",
       "    </tr>\n",
       "    <tr>\n",
       "      <th>53</th>\n",
       "      <td>NaN</td>\n",
       "      <td>NaN</td>\n",
       "      <td>NaN</td>\n",
       "      <td>NaN</td>\n",
       "      <td>NaN</td>\n",
       "      <td>NaN</td>\n",
       "      <td>NaN</td>\n",
       "      <td>NaN</td>\n",
       "      <td>NaN</td>\n",
       "      <td>NaN</td>\n",
       "      <td>...</td>\n",
       "      <td>NaN</td>\n",
       "      <td>NaN</td>\n",
       "      <td>NaN</td>\n",
       "      <td>NaN</td>\n",
       "      <td>NaN</td>\n",
       "      <td>NaN</td>\n",
       "      <td>NaN</td>\n",
       "      <td>NaN</td>\n",
       "      <td>NaN</td>\n",
       "      <td>NaN</td>\n",
       "    </tr>\n",
       "    <tr>\n",
       "      <th>54</th>\n",
       "      <td>58.0</td>\n",
       "      <td>Ribe</td>\n",
       "      <td>ASR1015</td>\n",
       "      <td>50.0</td>\n",
       "      <td>60.0</td>\n",
       "      <td>NaN</td>\n",
       "      <td>G802</td>\n",
       "      <td>3.0</td>\n",
       "      <td>4.0</td>\n",
       "      <td>2.5</td>\n",
       "      <td>...</td>\n",
       "      <td>165.0</td>\n",
       "      <td>NaN</td>\n",
       "      <td>NaN</td>\n",
       "      <td>NaN</td>\n",
       "      <td>NaN</td>\n",
       "      <td>K?n ukendt. T?nder har ikke noget at sidde fas...</td>\n",
       "      <td>5/27/2008</td>\n",
       "      <td>MWOD</td>\n",
       "      <td>1.0</td>\n",
       "      <td>1.0</td>\n",
       "    </tr>\n",
       "    <tr>\n",
       "      <th>55</th>\n",
       "      <td>NaN</td>\n",
       "      <td>NaN</td>\n",
       "      <td>NaN</td>\n",
       "      <td>NaN</td>\n",
       "      <td>NaN</td>\n",
       "      <td>NaN</td>\n",
       "      <td>NaN</td>\n",
       "      <td>NaN</td>\n",
       "      <td>NaN</td>\n",
       "      <td>NaN</td>\n",
       "      <td>...</td>\n",
       "      <td>NaN</td>\n",
       "      <td>NaN</td>\n",
       "      <td>NaN</td>\n",
       "      <td>NaN</td>\n",
       "      <td>NaN</td>\n",
       "      <td>NaN</td>\n",
       "      <td>NaN</td>\n",
       "      <td>NaN</td>\n",
       "      <td>NaN</td>\n",
       "      <td>NaN</td>\n",
       "    </tr>\n",
       "    <tr>\n",
       "      <th>56</th>\n",
       "      <td>NaN</td>\n",
       "      <td>NaN</td>\n",
       "      <td>NaN</td>\n",
       "      <td>NaN</td>\n",
       "      <td>NaN</td>\n",
       "      <td>NaN</td>\n",
       "      <td>NaN</td>\n",
       "      <td>NaN</td>\n",
       "      <td>NaN</td>\n",
       "      <td>NaN</td>\n",
       "      <td>...</td>\n",
       "      <td>NaN</td>\n",
       "      <td>NaN</td>\n",
       "      <td>NaN</td>\n",
       "      <td>NaN</td>\n",
       "      <td>NaN</td>\n",
       "      <td>NaN</td>\n",
       "      <td>NaN</td>\n",
       "      <td>NaN</td>\n",
       "      <td>NaN</td>\n",
       "      <td>NaN</td>\n",
       "    </tr>\n",
       "    <tr>\n",
       "      <th>68</th>\n",
       "      <td>NaN</td>\n",
       "      <td>NaN</td>\n",
       "      <td>NaN</td>\n",
       "      <td>NaN</td>\n",
       "      <td>NaN</td>\n",
       "      <td>NaN</td>\n",
       "      <td>NaN</td>\n",
       "      <td>NaN</td>\n",
       "      <td>NaN</td>\n",
       "      <td>NaN</td>\n",
       "      <td>...</td>\n",
       "      <td>NaN</td>\n",
       "      <td>NaN</td>\n",
       "      <td>NaN</td>\n",
       "      <td>NaN</td>\n",
       "      <td>NaN</td>\n",
       "      <td>NaN</td>\n",
       "      <td>NaN</td>\n",
       "      <td>NaN</td>\n",
       "      <td>NaN</td>\n",
       "      <td>NaN</td>\n",
       "    </tr>\n",
       "    <tr>\n",
       "      <th>69</th>\n",
       "      <td>NaN</td>\n",
       "      <td>NaN</td>\n",
       "      <td>NaN</td>\n",
       "      <td>NaN</td>\n",
       "      <td>NaN</td>\n",
       "      <td>NaN</td>\n",
       "      <td>NaN</td>\n",
       "      <td>NaN</td>\n",
       "      <td>NaN</td>\n",
       "      <td>NaN</td>\n",
       "      <td>...</td>\n",
       "      <td>NaN</td>\n",
       "      <td>NaN</td>\n",
       "      <td>NaN</td>\n",
       "      <td>NaN</td>\n",
       "      <td>NaN</td>\n",
       "      <td>NaN</td>\n",
       "      <td>NaN</td>\n",
       "      <td>NaN</td>\n",
       "      <td>NaN</td>\n",
       "      <td>NaN</td>\n",
       "    </tr>\n",
       "    <tr>\n",
       "      <th>70</th>\n",
       "      <td>74.0</td>\n",
       "      <td>Ribe</td>\n",
       "      <td>ASR1015</td>\n",
       "      <td>40.0</td>\n",
       "      <td>50.0</td>\n",
       "      <td>Male</td>\n",
       "      <td>G846</td>\n",
       "      <td>0.0</td>\n",
       "      <td>0.0</td>\n",
       "      <td>0.0</td>\n",
       "      <td>...</td>\n",
       "      <td>173.0</td>\n",
       "      <td>NaN</td>\n",
       "      <td>NaN</td>\n",
       "      <td>NaN</td>\n",
       "      <td>NaN</td>\n",
       "      <td>T?nder faldet ud og remodeleret. Begge l?rben ...</td>\n",
       "      <td>5/27/2008</td>\n",
       "      <td>MWOD</td>\n",
       "      <td>0.0</td>\n",
       "      <td>0.0</td>\n",
       "    </tr>\n",
       "    <tr>\n",
       "      <th>72</th>\n",
       "      <td>76.0</td>\n",
       "      <td>Ribe</td>\n",
       "      <td>ASR1015</td>\n",
       "      <td>30.0</td>\n",
       "      <td>40.0</td>\n",
       "      <td>Male</td>\n",
       "      <td>G897</td>\n",
       "      <td>NaN</td>\n",
       "      <td>NaN</td>\n",
       "      <td>NaN</td>\n",
       "      <td>...</td>\n",
       "      <td>162.0</td>\n",
       "      <td>NaN</td>\n",
       "      <td>NaN</td>\n",
       "      <td>NaN</td>\n",
       "      <td>NaN</td>\n",
       "      <td>NaN</td>\n",
       "      <td>5/28/2008</td>\n",
       "      <td>MWOD</td>\n",
       "      <td>1.0</td>\n",
       "      <td>1.0</td>\n",
       "    </tr>\n",
       "    <tr>\n",
       "      <th>74</th>\n",
       "      <td>78.0</td>\n",
       "      <td>Ribe</td>\n",
       "      <td>ASR1015</td>\n",
       "      <td>35.0</td>\n",
       "      <td>45.0</td>\n",
       "      <td>Male</td>\n",
       "      <td>G894</td>\n",
       "      <td>0.0</td>\n",
       "      <td>0.0</td>\n",
       "      <td>0.0</td>\n",
       "      <td>...</td>\n",
       "      <td>168.5</td>\n",
       "      <td>NaN</td>\n",
       "      <td>NaN</td>\n",
       "      <td>NaN</td>\n",
       "      <td>NaN</td>\n",
       "      <td>Der er et s?t l?rben i overskud  og jeg m?ler ...</td>\n",
       "      <td>5/28/2008</td>\n",
       "      <td>MWOD</td>\n",
       "      <td>0.0</td>\n",
       "      <td>0.0</td>\n",
       "    </tr>\n",
       "    <tr>\n",
       "      <th>76</th>\n",
       "      <td>NaN</td>\n",
       "      <td>NaN</td>\n",
       "      <td>NaN</td>\n",
       "      <td>NaN</td>\n",
       "      <td>NaN</td>\n",
       "      <td>NaN</td>\n",
       "      <td>NaN</td>\n",
       "      <td>NaN</td>\n",
       "      <td>NaN</td>\n",
       "      <td>NaN</td>\n",
       "      <td>...</td>\n",
       "      <td>NaN</td>\n",
       "      <td>NaN</td>\n",
       "      <td>NaN</td>\n",
       "      <td>NaN</td>\n",
       "      <td>NaN</td>\n",
       "      <td>NaN</td>\n",
       "      <td>NaN</td>\n",
       "      <td>NaN</td>\n",
       "      <td>NaN</td>\n",
       "      <td>NaN</td>\n",
       "    </tr>\n",
       "    <tr>\n",
       "      <th>78</th>\n",
       "      <td>NaN</td>\n",
       "      <td>NaN</td>\n",
       "      <td>NaN</td>\n",
       "      <td>NaN</td>\n",
       "      <td>NaN</td>\n",
       "      <td>NaN</td>\n",
       "      <td>NaN</td>\n",
       "      <td>NaN</td>\n",
       "      <td>NaN</td>\n",
       "      <td>NaN</td>\n",
       "      <td>...</td>\n",
       "      <td>NaN</td>\n",
       "      <td>NaN</td>\n",
       "      <td>NaN</td>\n",
       "      <td>NaN</td>\n",
       "      <td>NaN</td>\n",
       "      <td>NaN</td>\n",
       "      <td>NaN</td>\n",
       "      <td>NaN</td>\n",
       "      <td>NaN</td>\n",
       "      <td>NaN</td>\n",
       "    </tr>\n",
       "    <tr>\n",
       "      <th>83</th>\n",
       "      <td>NaN</td>\n",
       "      <td>NaN</td>\n",
       "      <td>NaN</td>\n",
       "      <td>NaN</td>\n",
       "      <td>NaN</td>\n",
       "      <td>NaN</td>\n",
       "      <td>NaN</td>\n",
       "      <td>NaN</td>\n",
       "      <td>NaN</td>\n",
       "      <td>NaN</td>\n",
       "      <td>...</td>\n",
       "      <td>NaN</td>\n",
       "      <td>NaN</td>\n",
       "      <td>NaN</td>\n",
       "      <td>NaN</td>\n",
       "      <td>NaN</td>\n",
       "      <td>NaN</td>\n",
       "      <td>NaN</td>\n",
       "      <td>NaN</td>\n",
       "      <td>NaN</td>\n",
       "      <td>NaN</td>\n",
       "    </tr>\n",
       "    <tr>\n",
       "      <th>84</th>\n",
       "      <td>NaN</td>\n",
       "      <td>NaN</td>\n",
       "      <td>NaN</td>\n",
       "      <td>NaN</td>\n",
       "      <td>NaN</td>\n",
       "      <td>NaN</td>\n",
       "      <td>NaN</td>\n",
       "      <td>NaN</td>\n",
       "      <td>NaN</td>\n",
       "      <td>NaN</td>\n",
       "      <td>...</td>\n",
       "      <td>NaN</td>\n",
       "      <td>NaN</td>\n",
       "      <td>NaN</td>\n",
       "      <td>NaN</td>\n",
       "      <td>NaN</td>\n",
       "      <td>NaN</td>\n",
       "      <td>NaN</td>\n",
       "      <td>NaN</td>\n",
       "      <td>NaN</td>\n",
       "      <td>NaN</td>\n",
       "    </tr>\n",
       "    <tr>\n",
       "      <th>85</th>\n",
       "      <td>NaN</td>\n",
       "      <td>NaN</td>\n",
       "      <td>NaN</td>\n",
       "      <td>NaN</td>\n",
       "      <td>NaN</td>\n",
       "      <td>NaN</td>\n",
       "      <td>NaN</td>\n",
       "      <td>NaN</td>\n",
       "      <td>NaN</td>\n",
       "      <td>NaN</td>\n",
       "      <td>...</td>\n",
       "      <td>NaN</td>\n",
       "      <td>NaN</td>\n",
       "      <td>NaN</td>\n",
       "      <td>NaN</td>\n",
       "      <td>NaN</td>\n",
       "      <td>NaN</td>\n",
       "      <td>NaN</td>\n",
       "      <td>NaN</td>\n",
       "      <td>NaN</td>\n",
       "      <td>NaN</td>\n",
       "    </tr>\n",
       "    <tr>\n",
       "      <th>86</th>\n",
       "      <td>90.0</td>\n",
       "      <td>Ribe</td>\n",
       "      <td>ASR1015</td>\n",
       "      <td>20.0</td>\n",
       "      <td>25.0</td>\n",
       "      <td>Female</td>\n",
       "      <td>G99</td>\n",
       "      <td>1.0</td>\n",
       "      <td>4.0</td>\n",
       "      <td>NaN</td>\n",
       "      <td>...</td>\n",
       "      <td>161.0</td>\n",
       "      <td>NaN</td>\n",
       "      <td>NaN</td>\n",
       "      <td>NaN</td>\n",
       "      <td>NaN</td>\n",
       "      <td>NaN</td>\n",
       "      <td>5/28/2008</td>\n",
       "      <td>MWOD</td>\n",
       "      <td>1.0</td>\n",
       "      <td>1.0</td>\n",
       "    </tr>\n",
       "    <tr>\n",
       "      <th>91</th>\n",
       "      <td>NaN</td>\n",
       "      <td>NaN</td>\n",
       "      <td>NaN</td>\n",
       "      <td>NaN</td>\n",
       "      <td>NaN</td>\n",
       "      <td>NaN</td>\n",
       "      <td>NaN</td>\n",
       "      <td>NaN</td>\n",
       "      <td>NaN</td>\n",
       "      <td>NaN</td>\n",
       "      <td>...</td>\n",
       "      <td>NaN</td>\n",
       "      <td>NaN</td>\n",
       "      <td>NaN</td>\n",
       "      <td>NaN</td>\n",
       "      <td>NaN</td>\n",
       "      <td>NaN</td>\n",
       "      <td>NaN</td>\n",
       "      <td>NaN</td>\n",
       "      <td>NaN</td>\n",
       "      <td>NaN</td>\n",
       "    </tr>\n",
       "    <tr>\n",
       "      <th>92</th>\n",
       "      <td>NaN</td>\n",
       "      <td>NaN</td>\n",
       "      <td>NaN</td>\n",
       "      <td>NaN</td>\n",
       "      <td>NaN</td>\n",
       "      <td>NaN</td>\n",
       "      <td>NaN</td>\n",
       "      <td>NaN</td>\n",
       "      <td>NaN</td>\n",
       "      <td>NaN</td>\n",
       "      <td>...</td>\n",
       "      <td>NaN</td>\n",
       "      <td>NaN</td>\n",
       "      <td>NaN</td>\n",
       "      <td>NaN</td>\n",
       "      <td>NaN</td>\n",
       "      <td>NaN</td>\n",
       "      <td>NaN</td>\n",
       "      <td>NaN</td>\n",
       "      <td>NaN</td>\n",
       "      <td>NaN</td>\n",
       "    </tr>\n",
       "    <tr>\n",
       "      <th>94</th>\n",
       "      <td>98.0</td>\n",
       "      <td>Ribe</td>\n",
       "      <td>ASR1015</td>\n",
       "      <td>60.0</td>\n",
       "      <td>NaN</td>\n",
       "      <td>Male</td>\n",
       "      <td>G419</td>\n",
       "      <td>0.0</td>\n",
       "      <td>0.0</td>\n",
       "      <td>0.0</td>\n",
       "      <td>...</td>\n",
       "      <td>167.0</td>\n",
       "      <td>NaN</td>\n",
       "      <td>NaN</td>\n",
       "      <td>NaN</td>\n",
       "      <td>NaN</td>\n",
       "      <td>T?nder mere end 1/3 slidte. Skelet i d?rlig st...</td>\n",
       "      <td>5/28/2008</td>\n",
       "      <td>MWOD</td>\n",
       "      <td>0.0</td>\n",
       "      <td>0.0</td>\n",
       "    </tr>\n",
       "    <tr>\n",
       "      <th>108</th>\n",
       "      <td>NaN</td>\n",
       "      <td>NaN</td>\n",
       "      <td>NaN</td>\n",
       "      <td>NaN</td>\n",
       "      <td>NaN</td>\n",
       "      <td>NaN</td>\n",
       "      <td>NaN</td>\n",
       "      <td>NaN</td>\n",
       "      <td>NaN</td>\n",
       "      <td>NaN</td>\n",
       "      <td>...</td>\n",
       "      <td>NaN</td>\n",
       "      <td>NaN</td>\n",
       "      <td>NaN</td>\n",
       "      <td>NaN</td>\n",
       "      <td>NaN</td>\n",
       "      <td>NaN</td>\n",
       "      <td>NaN</td>\n",
       "      <td>NaN</td>\n",
       "      <td>NaN</td>\n",
       "      <td>NaN</td>\n",
       "    </tr>\n",
       "    <tr>\n",
       "      <th>109</th>\n",
       "      <td>113.0</td>\n",
       "      <td>Ribe</td>\n",
       "      <td>ASR1015</td>\n",
       "      <td>25.0</td>\n",
       "      <td>35.0</td>\n",
       "      <td>Male</td>\n",
       "      <td>G211</td>\n",
       "      <td>4.0</td>\n",
       "      <td>4.0</td>\n",
       "      <td>4.5</td>\n",
       "      <td>...</td>\n",
       "      <td>163.0</td>\n",
       "      <td>NaN</td>\n",
       "      <td>NaN</td>\n",
       "      <td>NaN</td>\n",
       "      <td>NaN</td>\n",
       "      <td>Male?</td>\n",
       "      <td>5/28/2008</td>\n",
       "      <td>MWOD</td>\n",
       "      <td>1.0</td>\n",
       "      <td>1.0</td>\n",
       "    </tr>\n",
       "  </tbody>\n",
       "</table>\n",
       "<p>26 rows × 23 columns</p>\n",
       "</div>"
      ],
      "text/plain": [
       "        ID Location Site_Number  Age_Minumum  Age_Maximum     Sex  \\\n",
       "6      9.0     Ribe     ASR1015         50.0         60.0    Male   \n",
       "9     12.0     Ribe     ASR1015         50.0         60.0  Female   \n",
       "10    13.0     Ribe     ASR1015         35.0         44.0  Female   \n",
       "30     NaN      NaN         NaN          NaN          NaN     NaN   \n",
       "46     NaN      NaN         NaN          NaN          NaN     NaN   \n",
       "52    56.0     Ribe     ASR1015         35.0         40.0  Female   \n",
       "53     NaN      NaN         NaN          NaN          NaN     NaN   \n",
       "54    58.0     Ribe     ASR1015         50.0         60.0     NaN   \n",
       "55     NaN      NaN         NaN          NaN          NaN     NaN   \n",
       "56     NaN      NaN         NaN          NaN          NaN     NaN   \n",
       "68     NaN      NaN         NaN          NaN          NaN     NaN   \n",
       "69     NaN      NaN         NaN          NaN          NaN     NaN   \n",
       "70    74.0     Ribe     ASR1015         40.0         50.0    Male   \n",
       "72    76.0     Ribe     ASR1015         30.0         40.0    Male   \n",
       "74    78.0     Ribe     ASR1015         35.0         45.0    Male   \n",
       "76     NaN      NaN         NaN          NaN          NaN     NaN   \n",
       "78     NaN      NaN         NaN          NaN          NaN     NaN   \n",
       "83     NaN      NaN         NaN          NaN          NaN     NaN   \n",
       "84     NaN      NaN         NaN          NaN          NaN     NaN   \n",
       "85     NaN      NaN         NaN          NaN          NaN     NaN   \n",
       "86    90.0     Ribe     ASR1015         20.0         25.0  Female   \n",
       "91     NaN      NaN         NaN          NaN          NaN     NaN   \n",
       "92     NaN      NaN         NaN          NaN          NaN     NaN   \n",
       "94    98.0     Ribe     ASR1015         60.0          NaN    Male   \n",
       "108    NaN      NaN         NaN          NaN          NaN     NaN   \n",
       "109  113.0     Ribe     ASR1015         25.0         35.0    Male   \n",
       "\n",
       "    Grave Number  Canine number  Canine largest age  Canine 2nd largest age  \\\n",
       "6           G377            3.0                 3.5                     5.0   \n",
       "9           G104            NaN                 NaN                     NaN   \n",
       "10          G159            2.0                 4.0                     4.3   \n",
       "30           NaN            NaN                 NaN                     NaN   \n",
       "46           NaN            NaN                 NaN                     NaN   \n",
       "52          G808            0.0                 0.0                     0.0   \n",
       "53           NaN            NaN                 NaN                     NaN   \n",
       "54          G802            3.0                 4.0                     2.5   \n",
       "55           NaN            NaN                 NaN                     NaN   \n",
       "56           NaN            NaN                 NaN                     NaN   \n",
       "68           NaN            NaN                 NaN                     NaN   \n",
       "69           NaN            NaN                 NaN                     NaN   \n",
       "70          G846            0.0                 0.0                     0.0   \n",
       "72          G897            NaN                 NaN                     NaN   \n",
       "74          G894            0.0                 0.0                     0.0   \n",
       "76           NaN            NaN                 NaN                     NaN   \n",
       "78           NaN            NaN                 NaN                     NaN   \n",
       "83           NaN            NaN                 NaN                     NaN   \n",
       "84           NaN            NaN                 NaN                     NaN   \n",
       "85           NaN            NaN                 NaN                     NaN   \n",
       "86           G99            1.0                 4.0                     NaN   \n",
       "91           NaN            NaN                 NaN                     NaN   \n",
       "92           NaN            NaN                 NaN                     NaN   \n",
       "94          G419            0.0                 0.0                     0.0   \n",
       "108          NaN            NaN                 NaN                     NaN   \n",
       "109         G211            4.0                 4.0                     4.5   \n",
       "\n",
       "         ...        Height in grave  Abnormalities Vertebras  Femur left  \\\n",
       "6        ...                  166.0                      NaN         NaN   \n",
       "9        ...                  150.0                      NaN         NaN   \n",
       "10       ...                  158.5                      NaN         NaN   \n",
       "30       ...                    NaN                      NaN         NaN   \n",
       "46       ...                    NaN                      NaN         NaN   \n",
       "52       ...                  153.0                      NaN         NaN   \n",
       "53       ...                    NaN                      NaN         NaN   \n",
       "54       ...                  165.0                      NaN         NaN   \n",
       "55       ...                    NaN                      NaN         NaN   \n",
       "56       ...                    NaN                      NaN         NaN   \n",
       "68       ...                    NaN                      NaN         NaN   \n",
       "69       ...                    NaN                      NaN         NaN   \n",
       "70       ...                  173.0                      NaN         NaN   \n",
       "72       ...                  162.0                      NaN         NaN   \n",
       "74       ...                  168.5                      NaN         NaN   \n",
       "76       ...                    NaN                      NaN         NaN   \n",
       "78       ...                    NaN                      NaN         NaN   \n",
       "83       ...                    NaN                      NaN         NaN   \n",
       "84       ...                    NaN                      NaN         NaN   \n",
       "85       ...                    NaN                      NaN         NaN   \n",
       "86       ...                  161.0                      NaN         NaN   \n",
       "91       ...                    NaN                      NaN         NaN   \n",
       "92       ...                    NaN                      NaN         NaN   \n",
       "94       ...                  167.0                      NaN         NaN   \n",
       "108      ...                    NaN                      NaN         NaN   \n",
       "109      ...                  163.0                      NaN         NaN   \n",
       "\n",
       "     Femur right                     Abnormalities Femur  \\\n",
       "6            NaN  Kn?kkede postmortalt s? kan ikke m?les   \n",
       "9            NaN                                     NaN   \n",
       "10           NaN  Begge l?rben for nedbrudte til at m?le   \n",
       "30           NaN                                     NaN   \n",
       "46           NaN                                     NaN   \n",
       "52           NaN                                     NaN   \n",
       "53           NaN                                     NaN   \n",
       "54           NaN                                     NaN   \n",
       "55           NaN                                     NaN   \n",
       "56           NaN                                     NaN   \n",
       "68           NaN                                     NaN   \n",
       "69           NaN                                     NaN   \n",
       "70           NaN                                     NaN   \n",
       "72           NaN                                     NaN   \n",
       "74           NaN                                     NaN   \n",
       "76           NaN                                     NaN   \n",
       "78           NaN                                     NaN   \n",
       "83           NaN                                     NaN   \n",
       "84           NaN                                     NaN   \n",
       "85           NaN                                     NaN   \n",
       "86           NaN                                     NaN   \n",
       "91           NaN                                     NaN   \n",
       "92           NaN                                     NaN   \n",
       "94           NaN                                     NaN   \n",
       "108          NaN                                     NaN   \n",
       "109          NaN                                     NaN   \n",
       "\n",
       "                                                 Notes       Date Signature  \\\n",
       "6                       Incisor mere end 1/3 slidt ned   5/8/2008      MWOD   \n",
       "9         Kraniet mangler, kig om det er p? udstilling   5/8/2008      MWOD   \n",
       "10                                                 NaN   5/8/2008      MWOD   \n",
       "30                                                 NaN        NaN       NaN   \n",
       "46                                                 NaN        NaN       NaN   \n",
       "52            Intet at kigge p?. Intet kranie. Female?  5/27/2008      MWOD   \n",
       "53                                                 NaN        NaN       NaN   \n",
       "54   K?n ukendt. T?nder har ikke noget at sidde fas...  5/27/2008      MWOD   \n",
       "55                                                 NaN        NaN       NaN   \n",
       "56                                                 NaN        NaN       NaN   \n",
       "68                                                 NaN        NaN       NaN   \n",
       "69                                                 NaN        NaN       NaN   \n",
       "70   T?nder faldet ud og remodeleret. Begge l?rben ...  5/27/2008      MWOD   \n",
       "72                                                 NaN  5/28/2008      MWOD   \n",
       "74   Der er et s?t l?rben i overskud  og jeg m?ler ...  5/28/2008      MWOD   \n",
       "76                                                 NaN        NaN       NaN   \n",
       "78                                                 NaN        NaN       NaN   \n",
       "83                                                 NaN        NaN       NaN   \n",
       "84                                                 NaN        NaN       NaN   \n",
       "85                                                 NaN        NaN       NaN   \n",
       "86                                                 NaN  5/28/2008      MWOD   \n",
       "91                                                 NaN        NaN       NaN   \n",
       "92                                                 NaN        NaN       NaN   \n",
       "94   T?nder mere end 1/3 slidte. Skelet i d?rlig st...  5/28/2008      MWOD   \n",
       "108                                                NaN        NaN       NaN   \n",
       "109                                              Male?  5/28/2008      MWOD   \n",
       "\n",
       "    Hyperplasia Teeth Scorable  \n",
       "6           1.0            1.0  \n",
       "9           0.0            0.0  \n",
       "10          0.0            1.0  \n",
       "30          NaN            NaN  \n",
       "46          NaN            NaN  \n",
       "52          0.0            0.0  \n",
       "53          NaN            NaN  \n",
       "54          1.0            1.0  \n",
       "55          NaN            NaN  \n",
       "56          NaN            NaN  \n",
       "68          NaN            NaN  \n",
       "69          NaN            NaN  \n",
       "70          0.0            0.0  \n",
       "72          1.0            1.0  \n",
       "74          0.0            0.0  \n",
       "76          NaN            NaN  \n",
       "78          NaN            NaN  \n",
       "83          NaN            NaN  \n",
       "84          NaN            NaN  \n",
       "85          NaN            NaN  \n",
       "86          1.0            1.0  \n",
       "91          NaN            NaN  \n",
       "92          NaN            NaN  \n",
       "94          0.0            0.0  \n",
       "108         NaN            NaN  \n",
       "109         1.0            1.0  \n",
       "\n",
       "[26 rows x 23 columns]"
      ]
     },
     "execution_count": 52,
     "metadata": {},
     "output_type": "execute_result"
    }
   ],
   "source": [
    "both_missing"
   ]
  },
  {
   "cell_type": "markdown",
   "metadata": {},
   "source": [
    "Tambien podemos ver que la mayoria de estos casos no esta bien documentado y tiene muchos valores `NaN`. Vamos a eliminar los que tienen valores `NaN` en la altura de la tumba ya que no tienen informacion relevante para el caso de estudio."
   ]
  },
  {
   "cell_type": "code",
   "execution_count": 58,
   "metadata": {},
   "outputs": [],
   "source": [
    "data = data[np.isfinite(data['Femur left'])]"
   ]
  },
  {
   "cell_type": "markdown",
   "metadata": {},
   "source": [
    "# Linear Regression"
   ]
  },
  {
   "cell_type": "markdown",
   "metadata": {},
   "source": [
    "Para hacer la regresion lineal vamos a utilizar solo los tamaños de femurs."
   ]
  },
  {
   "cell_type": "code",
   "execution_count": 62,
   "metadata": {},
   "outputs": [],
   "source": [
    "femur_height_data = data.drop(['ID', 'Location', 'Site_Number', 'Age_Minumum', 'Age_Maximum', 'Sex',\n",
    "       'Grave Number', 'Canine number', 'Canine largest age',\n",
    "       'Canine 2nd largest age', 'Incisor number', 'Incisor largest age',\n",
    "       'Incisor 2nd largest age', 'Abnormalities Vertebras', 'Abnormalities Femur', 'Notes', 'Date',\n",
    "       'Signature', 'Hyperplasia', 'Teeth Scorable'],1)"
   ]
  },
  {
   "cell_type": "code",
   "execution_count": 63,
   "metadata": {},
   "outputs": [
    {
     "data": {
      "text/html": [
       "<div>\n",
       "<style scoped>\n",
       "    .dataframe tbody tr th:only-of-type {\n",
       "        vertical-align: middle;\n",
       "    }\n",
       "\n",
       "    .dataframe tbody tr th {\n",
       "        vertical-align: top;\n",
       "    }\n",
       "\n",
       "    .dataframe thead th {\n",
       "        text-align: right;\n",
       "    }\n",
       "</style>\n",
       "<table border=\"1\" class=\"dataframe\">\n",
       "  <thead>\n",
       "    <tr style=\"text-align: right;\">\n",
       "      <th></th>\n",
       "      <th>Height in grave</th>\n",
       "      <th>Femur left</th>\n",
       "      <th>Femur right</th>\n",
       "    </tr>\n",
       "  </thead>\n",
       "  <tbody>\n",
       "    <tr>\n",
       "      <th>0</th>\n",
       "      <td>173.5</td>\n",
       "      <td>49.6</td>\n",
       "      <td>50.0</td>\n",
       "    </tr>\n",
       "    <tr>\n",
       "      <th>1</th>\n",
       "      <td>170.0</td>\n",
       "      <td>48.4</td>\n",
       "      <td>48.5</td>\n",
       "    </tr>\n",
       "    <tr>\n",
       "      <th>2</th>\n",
       "      <td>171.5</td>\n",
       "      <td>50.8</td>\n",
       "      <td>51.3</td>\n",
       "    </tr>\n",
       "    <tr>\n",
       "      <th>3</th>\n",
       "      <td>165.0</td>\n",
       "      <td>45.4</td>\n",
       "      <td>45.4</td>\n",
       "    </tr>\n",
       "    <tr>\n",
       "      <th>4</th>\n",
       "      <td>165.0</td>\n",
       "      <td>47.5</td>\n",
       "      <td>46.6</td>\n",
       "    </tr>\n",
       "  </tbody>\n",
       "</table>\n",
       "</div>"
      ],
      "text/plain": [
       "   Height in grave  Femur left  Femur right\n",
       "0            173.5        49.6         50.0\n",
       "1            170.0        48.4         48.5\n",
       "2            171.5        50.8         51.3\n",
       "3            165.0        45.4         45.4\n",
       "4            165.0        47.5         46.6"
      ]
     },
     "execution_count": 63,
     "metadata": {},
     "output_type": "execute_result"
    }
   ],
   "source": [
    "femur_height_data.head()"
   ]
  },
  {
   "cell_type": "markdown",
   "metadata": {},
   "source": [
    "Vamos a comenzar utilizando el femur derecho."
   ]
  },
  {
   "cell_type": "code",
   "execution_count": 65,
   "metadata": {},
   "outputs": [],
   "source": [
    "rf_data = pd.DataFrame()\n",
    "rf_data['Femur right'] = femur_height_data['Femur right']\n",
    "rf_data['Height in grave'] = femur_height_data['Height in grave']"
   ]
  },
  {
   "cell_type": "code",
   "execution_count": 67,
   "metadata": {},
   "outputs": [
    {
     "data": {
      "text/html": [
       "<div>\n",
       "<style scoped>\n",
       "    .dataframe tbody tr th:only-of-type {\n",
       "        vertical-align: middle;\n",
       "    }\n",
       "\n",
       "    .dataframe tbody tr th {\n",
       "        vertical-align: top;\n",
       "    }\n",
       "\n",
       "    .dataframe thead th {\n",
       "        text-align: right;\n",
       "    }\n",
       "</style>\n",
       "<table border=\"1\" class=\"dataframe\">\n",
       "  <thead>\n",
       "    <tr style=\"text-align: right;\">\n",
       "      <th></th>\n",
       "      <th>Femur right</th>\n",
       "      <th>Height in grave</th>\n",
       "    </tr>\n",
       "  </thead>\n",
       "  <tbody>\n",
       "    <tr>\n",
       "      <th>0</th>\n",
       "      <td>50.0</td>\n",
       "      <td>173.5</td>\n",
       "    </tr>\n",
       "    <tr>\n",
       "      <th>1</th>\n",
       "      <td>48.5</td>\n",
       "      <td>170.0</td>\n",
       "    </tr>\n",
       "    <tr>\n",
       "      <th>2</th>\n",
       "      <td>51.3</td>\n",
       "      <td>171.5</td>\n",
       "    </tr>\n",
       "    <tr>\n",
       "      <th>3</th>\n",
       "      <td>45.4</td>\n",
       "      <td>165.0</td>\n",
       "    </tr>\n",
       "    <tr>\n",
       "      <th>4</th>\n",
       "      <td>46.6</td>\n",
       "      <td>165.0</td>\n",
       "    </tr>\n",
       "  </tbody>\n",
       "</table>\n",
       "</div>"
      ],
      "text/plain": [
       "   Femur right  Height in grave\n",
       "0         50.0            173.5\n",
       "1         48.5            170.0\n",
       "2         51.3            171.5\n",
       "3         45.4            165.0\n",
       "4         46.6            165.0"
      ]
     },
     "execution_count": 67,
     "metadata": {},
     "output_type": "execute_result"
    }
   ],
   "source": [
    "rf_data.head()"
   ]
  },
  {
   "cell_type": "code",
   "execution_count": 99,
   "metadata": {
    "scrolled": false
   },
   "outputs": [
    {
     "data": {
      "image/png": "[encoded data removed]",
      "text/plain": [
       "<Figure size 1080x720 with 1 Axes>"
      ]
     },
     "metadata": {
      "needs_background": "light"
     },
     "output_type": "display_data"
    }
   ],
   "source": [
    "sns.scatterplot(x='Femur right', y='Height in grave', data=rf_data)\n",
    "plt.show()"
   ]
  },
  {
   "cell_type": "markdown",
   "metadata": {},
   "source": [
    "Podemos ver muy facilmente que esto es un problema adecuado para una regresion lineal."
   ]
  },
  {
   "cell_type": "markdown",
   "metadata": {},
   "source": [
    "Importamos las liberias para poder hacer la regresion lineal"
   ]
  },
  {
   "cell_type": "code",
   "execution_count": 80,
   "metadata": {},
   "outputs": [],
   "source": [
    "from sklearn import linear_model\n",
    "from sklearn.metrics import mean_squared_error, r2_score"
   ]
  },
  {
   "cell_type": "markdown",
   "metadata": {},
   "source": [
    "Separamos en `training` y `test` set."
   ]
  },
  {
   "cell_type": "code",
   "execution_count": 82,
   "metadata": {},
   "outputs": [
    {
     "data": {
      "text/plain": [
       "27.3"
      ]
     },
     "execution_count": 82,
     "metadata": {},
     "output_type": "execute_result"
    }
   ],
   "source": [
    "len(rf_data)*0.3"
   ]
  },
  {
   "cell_type": "code",
   "execution_count": 83,
   "metadata": {},
   "outputs": [],
   "source": [
    "X_train = rf_data['Femur right'][23:]\n",
    "X_test  = rf_data['Femur right'][:23]\n",
    "y_train = rf_data['Height in grave'][23:]\n",
    "y_test  = rf_data['Height in grave'][:23]"
   ]
  },
  {
   "cell_type": "code",
   "execution_count": 84,
   "metadata": {},
   "outputs": [],
   "source": [
    "regression = linear_model.LinearRegression()"
   ]
  },
  {
   "cell_type": "code",
   "execution_count": 85,
   "metadata": {},
   "outputs": [],
   "source": [
    "X_train = X_train.values.reshape(-1, 1)\n",
    "y_train = y_train.values.reshape(-1, 1)\n",
    "X_test  = X_test.values.reshape(-1, 1)\n",
    "y_test  = y_test.values.reshape(-1, 1)"
   ]
  },
  {
   "cell_type": "code",
   "execution_count": 86,
   "metadata": {},
   "outputs": [
    {
     "data": {
      "text/plain": [
       "LinearRegression(copy_X=True, fit_intercept=True, n_jobs=1, normalize=False)"
      ]
     },
     "execution_count": 86,
     "metadata": {},
     "output_type": "execute_result"
    }
   ],
   "source": [
    "regression.fit(X_train, y_train)"
   ]
  },
  {
   "cell_type": "code",
   "execution_count": 87,
   "metadata": {},
   "outputs": [],
   "source": [
    "y_pred = regression.predict(X_test)"
   ]
  },
  {
   "cell_type": "code",
   "execution_count": 90,
   "metadata": {},
   "outputs": [
    {
     "name": "stdout",
     "output_type": "stream",
     "text": [
      "Coeficiente: 2.649907727761467\n",
      "Mean squared error: 11.22\n",
      "Variance score: 0.86\n"
     ]
    }
   ],
   "source": [
    "print('Coeficiente:', regression.coef_[0][0])\n",
    "print('Mean squared error: %.2f'\n",
    "      % mean_squared_error(y_test, y_pred))\n",
    "print('Variance score: %.2f' % r2_score(y_test, y_pred))"
   ]
  },
  {
   "cell_type": "markdown",
   "metadata": {},
   "source": [
    "Ahora mostramos graficamente nuestros resultados"
   ]
  },
  {
   "cell_type": "code",
   "execution_count": 98,
   "metadata": {},
   "outputs": [
    {
     "data": {
      "image/png": "[encoded data removed]",
      "text/plain": [
       "<Figure size 1080x720 with 1 Axes>"
      ]
     },
     "metadata": {
      "needs_background": "light"
     },
     "output_type": "display_data"
    }
   ],
   "source": [
    "plt.scatter(X_test, y_test)\n",
    "plt.plot(X_test, y_pred, color='red', linewidth=3)\n",
    "plt.xlabel(\"Femur right\")\n",
    "plt.ylabel(\"Height in grave\")\n",
    "plt.show()"
   ]
  },
  {
   "cell_type": "code",
   "execution_count": null,
   "metadata": {},
   "outputs": [],
   "source": []
  }
 ],
 "metadata": {
  "kernelspec": {
   "display_name": "Python 3",
   "language": "python",
   "name": "python3"
  },
  "language_info": {
   "codemirror_mode": {
    "name": "ipython",
    "version": 3
   },
   "file_extension": ".py",
   "mimetype": "text/x-python",
   "name": "python",
   "nbconvert_exporter": "python",
   "pygments_lexer": "ipython3",
   "version": "3.6.6"
  }
 },
 "nbformat": 4,
 "nbformat_minor": 2
}
