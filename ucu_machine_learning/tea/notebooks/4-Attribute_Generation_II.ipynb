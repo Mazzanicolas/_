{
 "cells": [
  {
   "cell_type": "markdown",
   "metadata": {},
   "source": [
    "# Attribute Genration II"
   ]
  },
  {
   "cell_type": "markdown",
   "metadata": {},
   "source": [
    "Las coordenadas que tenemos nos ofrecen información importante, no es lo mismo moverse en el centro de montevideo que en las afueras, los diferentes tamaños de las vias, cantidad de personas en circulación o que usan el omnibus como medio de transporte varia dependiendo de la ubicación. Trabajar con estas coordenadas en un futuro va a resultar en problemas complejos por lo cual requerimos de algun metodo para mantener la información pero tenerla en un formato mas simple. Para esto vamos a segmentar a Montevideo en una matriz de ubicaciones en las cual ubicaremos los segmentos de recorridos. "
   ]
  },
  {
   "cell_type": "code",
   "execution_count": 1,
   "metadata": {},
   "outputs": [],
   "source": [
    "import pandas as pd\n",
    "import numpy as np\n",
    "import matplotlib.pyplot as plt\n",
    "import matplotlib"
   ]
  },
  {
   "cell_type": "code",
   "execution_count": 2,
   "metadata": {},
   "outputs": [
    {
     "data": {
      "text/html": [
       "<div>\n",
       "<style scoped>\n",
       "    .dataframe tbody tr th:only-of-type {\n",
       "        vertical-align: middle;\n",
       "    }\n",
       "\n",
       "    .dataframe tbody tr th {\n",
       "        vertical-align: top;\n",
       "    }\n",
       "\n",
       "    .dataframe thead th {\n",
       "        text-align: right;\n",
       "    }\n",
       "</style>\n",
       "<table border=\"1\" class=\"dataframe\">\n",
       "  <thead>\n",
       "    <tr style=\"text-align: right;\">\n",
       "      <th></th>\n",
       "      <th>id</th>\n",
       "      <th>line</th>\n",
       "      <th>longitude</th>\n",
       "      <th>latitude</th>\n",
       "      <th>timestamp</th>\n",
       "      <th>next_longitude</th>\n",
       "      <th>next_latitude</th>\n",
       "      <th>next_timestamp</th>\n",
       "      <th>distance</th>\n",
       "      <th>time</th>\n",
       "      <th>speed</th>\n",
       "    </tr>\n",
       "  </thead>\n",
       "  <tbody>\n",
       "    <tr>\n",
       "      <th>0</th>\n",
       "      <td>76</td>\n",
       "      <td>217</td>\n",
       "      <td>-56.222400</td>\n",
       "      <td>-34.855885</td>\n",
       "      <td>2018-10-02 14:38:53</td>\n",
       "      <td>-56.222717</td>\n",
       "      <td>-34.855766</td>\n",
       "      <td>2018-10-02 14:39:23</td>\n",
       "      <td>31.807877</td>\n",
       "      <td>0 days 00:00:30.000000000</td>\n",
       "      <td>1.060263</td>\n",
       "    </tr>\n",
       "    <tr>\n",
       "      <th>1</th>\n",
       "      <td>76</td>\n",
       "      <td>217</td>\n",
       "      <td>-56.222717</td>\n",
       "      <td>-34.855766</td>\n",
       "      <td>2018-10-02 14:39:23</td>\n",
       "      <td>-56.222733</td>\n",
       "      <td>-34.855780</td>\n",
       "      <td>2018-10-02 14:39:53</td>\n",
       "      <td>2.134200</td>\n",
       "      <td>0 days 00:00:30.000000000</td>\n",
       "      <td>0.071140</td>\n",
       "    </tr>\n",
       "    <tr>\n",
       "      <th>2</th>\n",
       "      <td>76</td>\n",
       "      <td>217</td>\n",
       "      <td>-56.222733</td>\n",
       "      <td>-34.855780</td>\n",
       "      <td>2018-10-02 14:39:53</td>\n",
       "      <td>-56.222916</td>\n",
       "      <td>-34.855682</td>\n",
       "      <td>2018-10-02 14:40:08</td>\n",
       "      <td>19.939152</td>\n",
       "      <td>0 days 00:00:15.000000000</td>\n",
       "      <td>1.329277</td>\n",
       "    </tr>\n",
       "    <tr>\n",
       "      <th>3</th>\n",
       "      <td>76</td>\n",
       "      <td>217</td>\n",
       "      <td>-56.222916</td>\n",
       "      <td>-34.855682</td>\n",
       "      <td>2018-10-02 14:40:08</td>\n",
       "      <td>-56.222866</td>\n",
       "      <td>-34.855682</td>\n",
       "      <td>2018-10-02 14:40:23</td>\n",
       "      <td>4.562295</td>\n",
       "      <td>0 days 00:00:15.000000000</td>\n",
       "      <td>0.304153</td>\n",
       "    </tr>\n",
       "    <tr>\n",
       "      <th>4</th>\n",
       "      <td>76</td>\n",
       "      <td>217</td>\n",
       "      <td>-56.222866</td>\n",
       "      <td>-34.855682</td>\n",
       "      <td>2018-10-02 14:40:23</td>\n",
       "      <td>-56.222850</td>\n",
       "      <td>-34.855667</td>\n",
       "      <td>2018-10-02 14:40:38</td>\n",
       "      <td>2.216614</td>\n",
       "      <td>0 days 00:00:15.000000000</td>\n",
       "      <td>0.147774</td>\n",
       "    </tr>\n",
       "  </tbody>\n",
       "</table>\n",
       "</div>"
      ],
      "text/plain": [
       "   id  line  longitude   latitude            timestamp  next_longitude  \\\n",
       "0  76   217 -56.222400 -34.855885  2018-10-02 14:38:53      -56.222717   \n",
       "1  76   217 -56.222717 -34.855766  2018-10-02 14:39:23      -56.222733   \n",
       "2  76   217 -56.222733 -34.855780  2018-10-02 14:39:53      -56.222916   \n",
       "3  76   217 -56.222916 -34.855682  2018-10-02 14:40:08      -56.222866   \n",
       "4  76   217 -56.222866 -34.855682  2018-10-02 14:40:23      -56.222850   \n",
       "\n",
       "   next_latitude       next_timestamp   distance                       time  \\\n",
       "0     -34.855766  2018-10-02 14:39:23  31.807877  0 days 00:00:30.000000000   \n",
       "1     -34.855780  2018-10-02 14:39:53   2.134200  0 days 00:00:30.000000000   \n",
       "2     -34.855682  2018-10-02 14:40:08  19.939152  0 days 00:00:15.000000000   \n",
       "3     -34.855682  2018-10-02 14:40:23   4.562295  0 days 00:00:15.000000000   \n",
       "4     -34.855667  2018-10-02 14:40:38   2.216614  0 days 00:00:15.000000000   \n",
       "\n",
       "      speed  \n",
       "0  1.060263  \n",
       "1  0.071140  \n",
       "2  1.329277  \n",
       "3  0.304153  \n",
       "4  0.147774  "
      ]
     },
     "execution_count": 2,
     "metadata": {},
     "output_type": "execute_result"
    }
   ],
   "source": [
    "data = pd.read_csv('../data/bus_data_stage_2.csv')\n",
    "data = data.drop(['Unnamed: 0'], axis=1)\n",
    "data.head()"
   ]
  },
  {
   "cell_type": "markdown",
   "metadata": {},
   "source": [
    "Ahora vamos a crear una bounding box que contiene a todos los recorridos"
   ]
  },
  {
   "cell_type": "code",
   "execution_count": 3,
   "metadata": {},
   "outputs": [
    {
     "name": "stdout",
     "output_type": "stream",
     "text": [
      "Max Latitude: -55.99586\n",
      "Max Longitude: -55.99586\n",
      "Min Latitude: -34.928585\n",
      "Min Longitude: -56.256016\n",
      "\n"
     ]
    }
   ],
   "source": [
    "MAX_LAT = data.latitude.max()\n",
    "MAX_LON = data.longitude.max()\n",
    "MIN_LAT = data.latitude.min()\n",
    "MIN_LON = data.longitude.min()\n",
    "print('Max Latitude: {1}\\nMax Longitude: {1}\\nMin Latitude: {2}\\nMin Longitude: {3}\\n'.format(MAX_LAT,\n",
    "                                                                                              MAX_LON,\n",
    "                                                                                              MIN_LAT,\n",
    "                                                                                              MIN_LON))"
   ]
  },
  {
   "cell_type": "markdown",
   "metadata": {},
   "source": [
    "Ahora creamos una bounding box con un padding de 0.001 _(100m)_ y sectores de 0.01 _(1Km)_."
   ]
  },
  {
   "cell_type": "code",
   "execution_count": 4,
   "metadata": {},
   "outputs": [
    {
     "name": "stdout",
     "output_type": "stream",
     "text": [
      "Matrix (22x27)\n"
     ]
    }
   ],
   "source": [
    "step = 0.01\n",
    "padding = 0.001\n",
    "longitude = np.arange(MIN_LON+padding, MAX_LON+padding, step)\n",
    "latitude  = np.arange(MIN_LAT+padding, MAX_LAT+padding, step)\n",
    "print('Matrix ({0}x{1})'.format(len(latitude),len(longitude)))\n",
    "matrix = pd.DataFrame(columns=['latitude','longitude'])\n",
    "points_lat = []\n",
    "points_lon = []\n",
    "for lon in latitude:\n",
    "    for lat in longitude:\n",
    "        points_lat.append(lat)\n",
    "        points_lon.append(lon)\n",
    "matrix.latitude  = points_lat\n",
    "matrix.longitude = points_lon"
   ]
  },
  {
   "cell_type": "code",
   "execution_count": 5,
   "metadata": {},
   "outputs": [
    {
     "data": {
      "text/plain": [
       "[<matplotlib.lines.Line2D at 0x10c8888d0>]"
      ]
     },
     "execution_count": 5,
     "metadata": {},
     "output_type": "execute_result"
    },
    {
     "data": {
      "image/png": "[encoded data removed]",
      "text/plain": [
       "<Figure size 1224x576 with 1 Axes>"
      ]
     },
     "metadata": {},
     "output_type": "display_data"
    }
   ],
   "source": [
    "plt.figure(figsize=(17,8))\n",
    "plt.title('Montevideo Sector Matrix ')\n",
    "plt.plot(matrix.latitude, matrix.longitude,'*')"
   ]
  },
  {
   "cell_type": "code",
   "execution_count": 6,
   "metadata": {},
   "outputs": [
    {
     "data": {
      "text/html": [
       "<div>\n",
       "<style scoped>\n",
       "    .dataframe tbody tr th:only-of-type {\n",
       "        vertical-align: middle;\n",
       "    }\n",
       "\n",
       "    .dataframe tbody tr th {\n",
       "        vertical-align: top;\n",
       "    }\n",
       "\n",
       "    .dataframe thead th {\n",
       "        text-align: right;\n",
       "    }\n",
       "</style>\n",
       "<table border=\"1\" class=\"dataframe\">\n",
       "  <thead>\n",
       "    <tr style=\"text-align: right;\">\n",
       "      <th></th>\n",
       "      <th>latitude</th>\n",
       "      <th>longitude</th>\n",
       "    </tr>\n",
       "  </thead>\n",
       "  <tbody>\n",
       "    <tr>\n",
       "      <th>0</th>\n",
       "      <td>-56.255016</td>\n",
       "      <td>-34.927585</td>\n",
       "    </tr>\n",
       "    <tr>\n",
       "      <th>1</th>\n",
       "      <td>-56.245016</td>\n",
       "      <td>-34.927585</td>\n",
       "    </tr>\n",
       "    <tr>\n",
       "      <th>2</th>\n",
       "      <td>-56.235016</td>\n",
       "      <td>-34.927585</td>\n",
       "    </tr>\n",
       "    <tr>\n",
       "      <th>3</th>\n",
       "      <td>-56.225016</td>\n",
       "      <td>-34.927585</td>\n",
       "    </tr>\n",
       "    <tr>\n",
       "      <th>4</th>\n",
       "      <td>-56.215016</td>\n",
       "      <td>-34.927585</td>\n",
       "    </tr>\n",
       "  </tbody>\n",
       "</table>\n",
       "</div>"
      ],
      "text/plain": [
       "    latitude  longitude\n",
       "0 -56.255016 -34.927585\n",
       "1 -56.245016 -34.927585\n",
       "2 -56.235016 -34.927585\n",
       "3 -56.225016 -34.927585\n",
       "4 -56.215016 -34.927585"
      ]
     },
     "execution_count": 6,
     "metadata": {},
     "output_type": "execute_result"
    }
   ],
   "source": [
    "matrix.head()"
   ]
  },
  {
   "cell_type": "code",
   "execution_count": 7,
   "metadata": {},
   "outputs": [],
   "source": [
    "def print_base():\n",
    "    plt.figure(figsize=(17,8))\n",
    "    plt.plot(matrix.latitude, matrix.longitude,'o', c='b')\n",
    "    \n",
    "def print_section(position, section):\n",
    "    plt.text(position[1]+0.002,position[0]-0.006, '({0},{1})'.format(str(section[0]),\n",
    "                                                                     str(section[1])),\n",
    "                                                                     fontsize=9, color='k')\n",
    "    plt.plot(position[1]+0.005,position[0]-0.005,'s',c='r', markersize= 20)\n",
    "\n",
    "def get_position_in_matrix(orig_lat, orig_long, dest_lat, dest_long, step = 0.01, padding = 0.001):\n",
    "    longitude = np.arange(MIN_LON + padding, MAX_LON + padding, step)\n",
    "    latitude  = np.arange(MIN_LAT + padding, MAX_LAT + padding, step)\n",
    "    centroid_lat = orig_lat  + abs(orig_lat  - dest_lat) /2\n",
    "    centroid_lon = orig_long + abs(orig_long - dest_long)/2\n",
    "    position = [None, None]\n",
    "    section  = [None, None]\n",
    "    for index, lat in enumerate(latitude):\n",
    "        if lat >= centroid_lat:\n",
    "            position[0] = lat\n",
    "            section[0]  = index\n",
    "            break\n",
    "    for index, lon in enumerate(longitude):\n",
    "        if lon >= centroid_lon:\n",
    "            position[1] = lon\n",
    "            section[1]  = index\n",
    "            break\n",
    "    return section\n",
    "\n",
    "def show_matrix(line, r=22,c=27, show_speed=False):\n",
    "    positions, speeds = get_matrix_positions(line)\n",
    "    matrix = np.zeros((r,c))\n",
    "    fig, ax = plt.subplots()\n",
    "    plt.title(str(line.line.iloc[0])+' '+str(line.id.iloc[0]))\n",
    "    for index, point in enumerate(positions):\n",
    "        matrix[point[0]][point[1]] = speeds[index]\n",
    "        if show_speed:\n",
    "            _ = round(speeds[index],0)\n",
    "        else:\n",
    "            _ = str('{0},{1}'.format(str(point[0]),str(point[1])))\n",
    "        ax.text(point[1], point[0], _, ha=\"center\", va=\"center\", color=\"w\")\n",
    "\n",
    "    ax.imshow(matrix, origin='lower')\n",
    "    plt.show()\n",
    "    return positions\n",
    "\n",
    "def get_matrix_positions(line):\n",
    "    positions = []\n",
    "    speeds    = []\n",
    "    for row in line.itertuples():\n",
    "        position = get_position_in_matrix(row.latitude,\n",
    "                                          row.longitude,\n",
    "                                          row.next_latitude,\n",
    "                                          row.next_longitude)\n",
    "        positions.append(position)\n",
    "        speeds.append(row.speed)\n",
    "    return positions, speeds"
   ]
  },
  {
   "cell_type": "markdown",
   "metadata": {},
   "source": [
    "Ahora que tenemos sectores asignamos a cada segmento un sector. Para esto calculamos el punto medio de la recta entre el origen y el destino. Con las coordenadas de este punto vemos en que sector cae y se lo asignamos. A continuacion vamos a ver algunos ejemplos de como se ven las lineas en estos sectores, los colores muestran las velocidades en la ultima id de la linea."
   ]
  },
  {
   "cell_type": "code",
   "execution_count": 8,
   "metadata": {
    "scrolled": false
   },
   "outputs": [
    {
     "data": {
      "image/png": "[encoded data removed]",
      "text/plain": [
       "<Figure size 1108.8x1360.8 with 1 Axes>"
      ]
     },
     "metadata": {},
     "output_type": "display_data"
    },
    {
     "data": {
      "image/png": "[encoded data removed]",
      "text/plain": [
       "<Figure size 1108.8x1360.8 with 1 Axes>"
      ]
     },
     "metadata": {},
     "output_type": "display_data"
    },
    {
     "data": {
      "image/png": "[encoded data removed]",
      "text/plain": [
       "<Figure size 1108.8x1360.8 with 1 Axes>"
      ]
     },
     "metadata": {},
     "output_type": "display_data"
    },
    {
     "data": {
      "image/png": "[encoded data removed]",
      "text/plain": [
       "<Figure size 1108.8x1360.8 with 1 Axes>"
      ]
     },
     "metadata": {},
     "output_type": "display_data"
    },
    {
     "data": {
      "image/png": "[encoded data removed]",
      "text/plain": [
       "<Figure size 1108.8x1360.8 with 1 Axes>"
      ]
     },
     "metadata": {},
     "output_type": "display_data"
    }
   ],
   "source": [
    "matplotlib.rcParams['figure.figsize'] = [15.4, 18.9]\n",
    "unique_lines = data.line.unique()\n",
    "for line in unique_lines[:5]:\n",
    "    p = show_matrix(data.query('line == {0}'.format(line)))"
   ]
  },
  {
   "cell_type": "markdown",
   "metadata": {},
   "source": [
    "Ahora lo agregamos a el dataset y guardamos los cambios."
   ]
  },
  {
   "cell_type": "code",
   "execution_count": 9,
   "metadata": {
    "scrolled": false
   },
   "outputs": [],
   "source": [
    "positions, _ = get_matrix_positions(data)"
   ]
  },
  {
   "cell_type": "code",
   "execution_count": 10,
   "metadata": {},
   "outputs": [],
   "source": [
    "data['matrix_position'] = positions"
   ]
  },
  {
   "cell_type": "code",
   "execution_count": 11,
   "metadata": {},
   "outputs": [
    {
     "data": {
      "text/html": [
       "<div>\n",
       "<style scoped>\n",
       "    .dataframe tbody tr th:only-of-type {\n",
       "        vertical-align: middle;\n",
       "    }\n",
       "\n",
       "    .dataframe tbody tr th {\n",
       "        vertical-align: top;\n",
       "    }\n",
       "\n",
       "    .dataframe thead th {\n",
       "        text-align: right;\n",
       "    }\n",
       "</style>\n",
       "<table border=\"1\" class=\"dataframe\">\n",
       "  <thead>\n",
       "    <tr style=\"text-align: right;\">\n",
       "      <th></th>\n",
       "      <th>id</th>\n",
       "      <th>line</th>\n",
       "      <th>longitude</th>\n",
       "      <th>latitude</th>\n",
       "      <th>timestamp</th>\n",
       "      <th>next_longitude</th>\n",
       "      <th>next_latitude</th>\n",
       "      <th>next_timestamp</th>\n",
       "      <th>distance</th>\n",
       "      <th>time</th>\n",
       "      <th>speed</th>\n",
       "      <th>matrix_position</th>\n",
       "    </tr>\n",
       "  </thead>\n",
       "  <tbody>\n",
       "    <tr>\n",
       "      <th>0</th>\n",
       "      <td>76</td>\n",
       "      <td>217</td>\n",
       "      <td>-56.222400</td>\n",
       "      <td>-34.855885</td>\n",
       "      <td>2018-10-02 14:38:53</td>\n",
       "      <td>-56.222717</td>\n",
       "      <td>-34.855766</td>\n",
       "      <td>2018-10-02 14:39:23</td>\n",
       "      <td>31.807877</td>\n",
       "      <td>0 days 00:00:30.000000000</td>\n",
       "      <td>1.060263</td>\n",
       "      <td>[8, 4]</td>\n",
       "    </tr>\n",
       "    <tr>\n",
       "      <th>1</th>\n",
       "      <td>76</td>\n",
       "      <td>217</td>\n",
       "      <td>-56.222717</td>\n",
       "      <td>-34.855766</td>\n",
       "      <td>2018-10-02 14:39:23</td>\n",
       "      <td>-56.222733</td>\n",
       "      <td>-34.855780</td>\n",
       "      <td>2018-10-02 14:39:53</td>\n",
       "      <td>2.134200</td>\n",
       "      <td>0 days 00:00:30.000000000</td>\n",
       "      <td>0.071140</td>\n",
       "      <td>[8, 4]</td>\n",
       "    </tr>\n",
       "    <tr>\n",
       "      <th>2</th>\n",
       "      <td>76</td>\n",
       "      <td>217</td>\n",
       "      <td>-56.222733</td>\n",
       "      <td>-34.855780</td>\n",
       "      <td>2018-10-02 14:39:53</td>\n",
       "      <td>-56.222916</td>\n",
       "      <td>-34.855682</td>\n",
       "      <td>2018-10-02 14:40:08</td>\n",
       "      <td>19.939152</td>\n",
       "      <td>0 days 00:00:15.000000000</td>\n",
       "      <td>1.329277</td>\n",
       "      <td>[8, 4]</td>\n",
       "    </tr>\n",
       "    <tr>\n",
       "      <th>3</th>\n",
       "      <td>76</td>\n",
       "      <td>217</td>\n",
       "      <td>-56.222916</td>\n",
       "      <td>-34.855682</td>\n",
       "      <td>2018-10-02 14:40:08</td>\n",
       "      <td>-56.222866</td>\n",
       "      <td>-34.855682</td>\n",
       "      <td>2018-10-02 14:40:23</td>\n",
       "      <td>4.562295</td>\n",
       "      <td>0 days 00:00:15.000000000</td>\n",
       "      <td>0.304153</td>\n",
       "      <td>[8, 4]</td>\n",
       "    </tr>\n",
       "    <tr>\n",
       "      <th>4</th>\n",
       "      <td>76</td>\n",
       "      <td>217</td>\n",
       "      <td>-56.222866</td>\n",
       "      <td>-34.855682</td>\n",
       "      <td>2018-10-02 14:40:23</td>\n",
       "      <td>-56.222850</td>\n",
       "      <td>-34.855667</td>\n",
       "      <td>2018-10-02 14:40:38</td>\n",
       "      <td>2.216614</td>\n",
       "      <td>0 days 00:00:15.000000000</td>\n",
       "      <td>0.147774</td>\n",
       "      <td>[8, 4]</td>\n",
       "    </tr>\n",
       "    <tr>\n",
       "      <th>5</th>\n",
       "      <td>76</td>\n",
       "      <td>217</td>\n",
       "      <td>-56.222850</td>\n",
       "      <td>-34.855667</td>\n",
       "      <td>2018-10-02 14:40:38</td>\n",
       "      <td>-56.222866</td>\n",
       "      <td>-34.855667</td>\n",
       "      <td>2018-10-02 14:40:53</td>\n",
       "      <td>1.459935</td>\n",
       "      <td>0 days 00:00:15.000000000</td>\n",
       "      <td>0.097329</td>\n",
       "      <td>[8, 4]</td>\n",
       "    </tr>\n",
       "    <tr>\n",
       "      <th>6</th>\n",
       "      <td>76</td>\n",
       "      <td>217</td>\n",
       "      <td>-56.222866</td>\n",
       "      <td>-34.855667</td>\n",
       "      <td>2018-10-02 14:40:53</td>\n",
       "      <td>-56.222935</td>\n",
       "      <td>-34.855650</td>\n",
       "      <td>2018-10-02 14:41:38</td>\n",
       "      <td>6.573623</td>\n",
       "      <td>0 days 00:00:45.000000000</td>\n",
       "      <td>0.146081</td>\n",
       "      <td>[8, 4]</td>\n",
       "    </tr>\n",
       "    <tr>\n",
       "      <th>7</th>\n",
       "      <td>76</td>\n",
       "      <td>217</td>\n",
       "      <td>-56.222935</td>\n",
       "      <td>-34.855650</td>\n",
       "      <td>2018-10-02 14:41:38</td>\n",
       "      <td>-56.222950</td>\n",
       "      <td>-34.855650</td>\n",
       "      <td>2018-10-02 14:41:53</td>\n",
       "      <td>1.368689</td>\n",
       "      <td>0 days 00:00:15.000000000</td>\n",
       "      <td>0.091246</td>\n",
       "      <td>[8, 4]</td>\n",
       "    </tr>\n",
       "    <tr>\n",
       "      <th>8</th>\n",
       "      <td>76</td>\n",
       "      <td>217</td>\n",
       "      <td>-56.222950</td>\n",
       "      <td>-34.855650</td>\n",
       "      <td>2018-10-02 14:41:53</td>\n",
       "      <td>-56.222935</td>\n",
       "      <td>-34.855750</td>\n",
       "      <td>2018-10-02 14:42:08</td>\n",
       "      <td>11.203411</td>\n",
       "      <td>0 days 00:00:15.000000000</td>\n",
       "      <td>0.746894</td>\n",
       "      <td>[8, 4]</td>\n",
       "    </tr>\n",
       "    <tr>\n",
       "      <th>9</th>\n",
       "      <td>76</td>\n",
       "      <td>217</td>\n",
       "      <td>-56.222935</td>\n",
       "      <td>-34.855750</td>\n",
       "      <td>2018-10-02 14:42:08</td>\n",
       "      <td>-56.222935</td>\n",
       "      <td>-34.855766</td>\n",
       "      <td>2018-10-02 14:42:23</td>\n",
       "      <td>1.779119</td>\n",
       "      <td>0 days 00:00:15.000000000</td>\n",
       "      <td>0.118608</td>\n",
       "      <td>[8, 4]</td>\n",
       "    </tr>\n",
       "    <tr>\n",
       "      <th>10</th>\n",
       "      <td>76</td>\n",
       "      <td>217</td>\n",
       "      <td>-56.222935</td>\n",
       "      <td>-34.855766</td>\n",
       "      <td>2018-10-02 14:42:23</td>\n",
       "      <td>-56.222965</td>\n",
       "      <td>-34.855816</td>\n",
       "      <td>2018-10-02 14:42:38</td>\n",
       "      <td>6.197096</td>\n",
       "      <td>0 days 00:00:15.000000000</td>\n",
       "      <td>0.413140</td>\n",
       "      <td>[8, 4]</td>\n",
       "    </tr>\n",
       "    <tr>\n",
       "      <th>11</th>\n",
       "      <td>76</td>\n",
       "      <td>217</td>\n",
       "      <td>-56.083332</td>\n",
       "      <td>-34.882233</td>\n",
       "      <td>2018-10-02 16:01:10</td>\n",
       "      <td>-56.083317</td>\n",
       "      <td>-34.882233</td>\n",
       "      <td>2018-10-02 16:01:25</td>\n",
       "      <td>1.368247</td>\n",
       "      <td>0 days 00:00:15.000000000</td>\n",
       "      <td>0.091216</td>\n",
       "      <td>[5, 18]</td>\n",
       "    </tr>\n",
       "  </tbody>\n",
       "</table>\n",
       "</div>"
      ],
      "text/plain": [
       "    id  line  longitude   latitude            timestamp  next_longitude  \\\n",
       "0   76   217 -56.222400 -34.855885  2018-10-02 14:38:53      -56.222717   \n",
       "1   76   217 -56.222717 -34.855766  2018-10-02 14:39:23      -56.222733   \n",
       "2   76   217 -56.222733 -34.855780  2018-10-02 14:39:53      -56.222916   \n",
       "3   76   217 -56.222916 -34.855682  2018-10-02 14:40:08      -56.222866   \n",
       "4   76   217 -56.222866 -34.855682  2018-10-02 14:40:23      -56.222850   \n",
       "5   76   217 -56.222850 -34.855667  2018-10-02 14:40:38      -56.222866   \n",
       "6   76   217 -56.222866 -34.855667  2018-10-02 14:40:53      -56.222935   \n",
       "7   76   217 -56.222935 -34.855650  2018-10-02 14:41:38      -56.222950   \n",
       "8   76   217 -56.222950 -34.855650  2018-10-02 14:41:53      -56.222935   \n",
       "9   76   217 -56.222935 -34.855750  2018-10-02 14:42:08      -56.222935   \n",
       "10  76   217 -56.222935 -34.855766  2018-10-02 14:42:23      -56.222965   \n",
       "11  76   217 -56.083332 -34.882233  2018-10-02 16:01:10      -56.083317   \n",
       "\n",
       "    next_latitude       next_timestamp   distance                       time  \\\n",
       "0      -34.855766  2018-10-02 14:39:23  31.807877  0 days 00:00:30.000000000   \n",
       "1      -34.855780  2018-10-02 14:39:53   2.134200  0 days 00:00:30.000000000   \n",
       "2      -34.855682  2018-10-02 14:40:08  19.939152  0 days 00:00:15.000000000   \n",
       "3      -34.855682  2018-10-02 14:40:23   4.562295  0 days 00:00:15.000000000   \n",
       "4      -34.855667  2018-10-02 14:40:38   2.216614  0 days 00:00:15.000000000   \n",
       "5      -34.855667  2018-10-02 14:40:53   1.459935  0 days 00:00:15.000000000   \n",
       "6      -34.855650  2018-10-02 14:41:38   6.573623  0 days 00:00:45.000000000   \n",
       "7      -34.855650  2018-10-02 14:41:53   1.368689  0 days 00:00:15.000000000   \n",
       "8      -34.855750  2018-10-02 14:42:08  11.203411  0 days 00:00:15.000000000   \n",
       "9      -34.855766  2018-10-02 14:42:23   1.779119  0 days 00:00:15.000000000   \n",
       "10     -34.855816  2018-10-02 14:42:38   6.197096  0 days 00:00:15.000000000   \n",
       "11     -34.882233  2018-10-02 16:01:25   1.368247  0 days 00:00:15.000000000   \n",
       "\n",
       "       speed matrix_position  \n",
       "0   1.060263          [8, 4]  \n",
       "1   0.071140          [8, 4]  \n",
       "2   1.329277          [8, 4]  \n",
       "3   0.304153          [8, 4]  \n",
       "4   0.147774          [8, 4]  \n",
       "5   0.097329          [8, 4]  \n",
       "6   0.146081          [8, 4]  \n",
       "7   0.091246          [8, 4]  \n",
       "8   0.746894          [8, 4]  \n",
       "9   0.118608          [8, 4]  \n",
       "10  0.413140          [8, 4]  \n",
       "11  0.091216         [5, 18]  "
      ]
     },
     "execution_count": 11,
     "metadata": {},
     "output_type": "execute_result"
    }
   ],
   "source": [
    "data.head(12)"
   ]
  },
  {
   "cell_type": "markdown",
   "metadata": {},
   "source": [
    "Como en Montevideo el transito se comporta diferente dependiendo de la hora del dia podemos ver entre que rangos tenemos las horas y evaluar la posiblidad de discretizar los rangos horarios para mantener esa informacion o descartarla en caso de que no aporte mucho."
   ]
  },
  {
   "cell_type": "code",
   "execution_count": 14,
   "metadata": {},
   "outputs": [
    {
     "name": "stdout",
     "output_type": "stream",
     "text": [
      "Max time: 2018-10-02 17:49:43\n",
      "Min time: 2018-10-02 14:38:53\n"
     ]
    }
   ],
   "source": [
    "max_time = data.timestamp.max()\n",
    "min_time = data.timestamp.min()\n",
    "\n",
    "print('Max time: {0}\\nMin time: {1}'.format(max_time, min_time))"
   ]
  },
  {
   "cell_type": "markdown",
   "metadata": {},
   "source": [
    "Vemos que se encuentran en un rango entre las 14:30hs ~ 17:50hs. No tenemos un rango lo suficientemente amplio como para separarlo en bins."
   ]
  },
  {
   "cell_type": "code",
   "execution_count": 13,
   "metadata": {},
   "outputs": [],
   "source": [
    "data.to_csv('../data/bus_data_stage_3.csv')"
   ]
  },
  {
   "cell_type": "markdown",
   "metadata": {},
   "source": [
    "Ahora que tenemos datos como para modelar un problema, en la proxima sección vamos a comprobar estos datos buscando missing values y outliers en los datos generados."
   ]
  },
  {
   "cell_type": "code",
   "execution_count": null,
   "metadata": {},
   "outputs": [],
   "source": []
  }
 ],
 "metadata": {
  "kernelspec": {
   "display_name": "Python 3",
   "language": "python",
   "name": "python3"
  },
  "language_info": {
   "codemirror_mode": {
    "name": "ipython",
    "version": 3
   },
   "file_extension": ".py",
   "mimetype": "text/x-python",
   "name": "python",
   "nbconvert_exporter": "python",
   "pygments_lexer": "ipython3",
   "version": "3.5.5"
  }
 },
 "nbformat": 4,
 "nbformat_minor": 2
}
