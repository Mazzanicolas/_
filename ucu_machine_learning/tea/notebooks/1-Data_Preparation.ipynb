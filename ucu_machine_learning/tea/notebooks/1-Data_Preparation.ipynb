{
 "cells": [
  {
   "cell_type": "markdown",
   "metadata": {},
   "source": [
    "# Data Preparation"
   ]
  },
  {
   "cell_type": "markdown",
   "metadata": {},
   "source": [
    "Importando librerias"
   ]
  },
  {
   "cell_type": "code",
   "execution_count": 51,
   "metadata": {},
   "outputs": [],
   "source": [
    "import pandas as pd\n",
    "from datetime import datetime"
   ]
  },
  {
   "cell_type": "code",
   "execution_count": 59,
   "metadata": {},
   "outputs": [],
   "source": [
    "raw_bus_data = pd.read_csv('../data/buses.csv')"
   ]
  },
  {
   "cell_type": "code",
   "execution_count": 60,
   "metadata": {},
   "outputs": [
    {
     "data": {
      "text/html": [
       "<div>\n",
       "<style scoped>\n",
       "    .dataframe tbody tr th:only-of-type {\n",
       "        vertical-align: middle;\n",
       "    }\n",
       "\n",
       "    .dataframe tbody tr th {\n",
       "        vertical-align: top;\n",
       "    }\n",
       "\n",
       "    .dataframe thead th {\n",
       "        text-align: right;\n",
       "    }\n",
       "</style>\n",
       "<table border=\"1\" class=\"dataframe\">\n",
       "  <thead>\n",
       "    <tr style=\"text-align: right;\">\n",
       "      <th></th>\n",
       "      <th>id</th>\n",
       "      <th>type</th>\n",
       "      <th>busCode</th>\n",
       "      <th>line</th>\n",
       "      <th>longitude</th>\n",
       "      <th>latitude</th>\n",
       "      <th>timestamp</th>\n",
       "    </tr>\n",
       "  </thead>\n",
       "  <tbody>\n",
       "    <tr>\n",
       "      <th>0</th>\n",
       "      <td>76</td>\n",
       "      <td>Bus</td>\n",
       "      <td>76</td>\n",
       "      <td>217</td>\n",
       "      <td>-56.222400</td>\n",
       "      <td>-34.855885</td>\n",
       "      <td>2018-10-02T14:38:53</td>\n",
       "    </tr>\n",
       "    <tr>\n",
       "      <th>1</th>\n",
       "      <td>984</td>\n",
       "      <td>Bus</td>\n",
       "      <td>984</td>\n",
       "      <td>540</td>\n",
       "      <td>-56.201860</td>\n",
       "      <td>-34.909360</td>\n",
       "      <td>2018-10-02T14:39:08</td>\n",
       "    </tr>\n",
       "    <tr>\n",
       "      <th>2</th>\n",
       "      <td>288</td>\n",
       "      <td>Bus</td>\n",
       "      <td>288</td>\n",
       "      <td>7898</td>\n",
       "      <td>-56.175415</td>\n",
       "      <td>-34.901110</td>\n",
       "      <td>2018-10-02T14:39:08</td>\n",
       "    </tr>\n",
       "    <tr>\n",
       "      <th>3</th>\n",
       "      <td>1111</td>\n",
       "      <td>Bus</td>\n",
       "      <td>1111</td>\n",
       "      <td>254</td>\n",
       "      <td>-56.136640</td>\n",
       "      <td>-34.872833</td>\n",
       "      <td>2018-10-02T14:39:08</td>\n",
       "    </tr>\n",
       "    <tr>\n",
       "      <th>4</th>\n",
       "      <td>22</td>\n",
       "      <td>Bus</td>\n",
       "      <td>22</td>\n",
       "      <td>540</td>\n",
       "      <td>-56.135277</td>\n",
       "      <td>-34.845554</td>\n",
       "      <td>2018-10-02T14:39:08</td>\n",
       "    </tr>\n",
       "  </tbody>\n",
       "</table>\n",
       "</div>"
      ],
      "text/plain": [
       "     id type  busCode  line  longitude   latitude            timestamp\n",
       "0    76  Bus       76   217 -56.222400 -34.855885  2018-10-02T14:38:53\n",
       "1   984  Bus      984   540 -56.201860 -34.909360  2018-10-02T14:39:08\n",
       "2   288  Bus      288  7898 -56.175415 -34.901110  2018-10-02T14:39:08\n",
       "3  1111  Bus     1111   254 -56.136640 -34.872833  2018-10-02T14:39:08\n",
       "4    22  Bus       22   540 -56.135277 -34.845554  2018-10-02T14:39:08"
      ]
     },
     "execution_count": 60,
     "metadata": {},
     "output_type": "execute_result"
    }
   ],
   "source": [
    "raw_bus_data.head()"
   ]
  },
  {
   "cell_type": "markdown",
   "metadata": {},
   "source": [
    "El type es retornado por la plataforma Orion y no aporta valor a la solucion"
   ]
  },
  {
   "cell_type": "code",
   "execution_count": 61,
   "metadata": {},
   "outputs": [
    {
     "data": {
      "text/html": [
       "<div>\n",
       "<style scoped>\n",
       "    .dataframe tbody tr th:only-of-type {\n",
       "        vertical-align: middle;\n",
       "    }\n",
       "\n",
       "    .dataframe tbody tr th {\n",
       "        vertical-align: top;\n",
       "    }\n",
       "\n",
       "    .dataframe thead th {\n",
       "        text-align: right;\n",
       "    }\n",
       "</style>\n",
       "<table border=\"1\" class=\"dataframe\">\n",
       "  <thead>\n",
       "    <tr style=\"text-align: right;\">\n",
       "      <th></th>\n",
       "      <th>id</th>\n",
       "      <th>busCode</th>\n",
       "      <th>line</th>\n",
       "      <th>longitude</th>\n",
       "      <th>latitude</th>\n",
       "      <th>timestamp</th>\n",
       "    </tr>\n",
       "  </thead>\n",
       "  <tbody>\n",
       "    <tr>\n",
       "      <th>0</th>\n",
       "      <td>76</td>\n",
       "      <td>76</td>\n",
       "      <td>217</td>\n",
       "      <td>-56.222400</td>\n",
       "      <td>-34.855885</td>\n",
       "      <td>2018-10-02T14:38:53</td>\n",
       "    </tr>\n",
       "    <tr>\n",
       "      <th>1</th>\n",
       "      <td>984</td>\n",
       "      <td>984</td>\n",
       "      <td>540</td>\n",
       "      <td>-56.201860</td>\n",
       "      <td>-34.909360</td>\n",
       "      <td>2018-10-02T14:39:08</td>\n",
       "    </tr>\n",
       "    <tr>\n",
       "      <th>2</th>\n",
       "      <td>288</td>\n",
       "      <td>288</td>\n",
       "      <td>7898</td>\n",
       "      <td>-56.175415</td>\n",
       "      <td>-34.901110</td>\n",
       "      <td>2018-10-02T14:39:08</td>\n",
       "    </tr>\n",
       "    <tr>\n",
       "      <th>3</th>\n",
       "      <td>1111</td>\n",
       "      <td>1111</td>\n",
       "      <td>254</td>\n",
       "      <td>-56.136640</td>\n",
       "      <td>-34.872833</td>\n",
       "      <td>2018-10-02T14:39:08</td>\n",
       "    </tr>\n",
       "    <tr>\n",
       "      <th>4</th>\n",
       "      <td>22</td>\n",
       "      <td>22</td>\n",
       "      <td>540</td>\n",
       "      <td>-56.135277</td>\n",
       "      <td>-34.845554</td>\n",
       "      <td>2018-10-02T14:39:08</td>\n",
       "    </tr>\n",
       "  </tbody>\n",
       "</table>\n",
       "</div>"
      ],
      "text/plain": [
       "     id  busCode  line  longitude   latitude            timestamp\n",
       "0    76       76   217 -56.222400 -34.855885  2018-10-02T14:38:53\n",
       "1   984      984   540 -56.201860 -34.909360  2018-10-02T14:39:08\n",
       "2   288      288  7898 -56.175415 -34.901110  2018-10-02T14:39:08\n",
       "3  1111     1111   254 -56.136640 -34.872833  2018-10-02T14:39:08\n",
       "4    22       22   540 -56.135277 -34.845554  2018-10-02T14:39:08"
      ]
     },
     "execution_count": 61,
     "metadata": {},
     "output_type": "execute_result"
    }
   ],
   "source": [
    "raw_bus_data = raw_bus_data.drop(['type'], axis=1)\n",
    "raw_bus_data.head()"
   ]
  },
  {
   "cell_type": "markdown",
   "metadata": {},
   "source": [
    "Podemos ver que id y busCode son iguales, ahora intentamos demostrarlo comparando el largo del dataset con el largo del subdataset en el cual id y busCuode son iguales"
   ]
  },
  {
   "cell_type": "code",
   "execution_count": 62,
   "metadata": {},
   "outputs": [
    {
     "name": "stdout",
     "output_type": "stream",
     "text": [
      "0\n"
     ]
    }
   ],
   "source": [
    "print(len(raw_bus_data)- len(raw_bus_data[raw_bus_data.id == raw_bus_data.busCode]))"
   ]
  },
  {
   "cell_type": "markdown",
   "metadata": {},
   "source": [
    "Podemos ver que son iguales y eliminamos busCode"
   ]
  },
  {
   "cell_type": "code",
   "execution_count": 63,
   "metadata": {},
   "outputs": [
    {
     "data": {
      "text/html": [
       "<div>\n",
       "<style scoped>\n",
       "    .dataframe tbody tr th:only-of-type {\n",
       "        vertical-align: middle;\n",
       "    }\n",
       "\n",
       "    .dataframe tbody tr th {\n",
       "        vertical-align: top;\n",
       "    }\n",
       "\n",
       "    .dataframe thead th {\n",
       "        text-align: right;\n",
       "    }\n",
       "</style>\n",
       "<table border=\"1\" class=\"dataframe\">\n",
       "  <thead>\n",
       "    <tr style=\"text-align: right;\">\n",
       "      <th></th>\n",
       "      <th>id</th>\n",
       "      <th>line</th>\n",
       "      <th>longitude</th>\n",
       "      <th>latitude</th>\n",
       "      <th>timestamp</th>\n",
       "    </tr>\n",
       "  </thead>\n",
       "  <tbody>\n",
       "    <tr>\n",
       "      <th>0</th>\n",
       "      <td>76</td>\n",
       "      <td>217</td>\n",
       "      <td>-56.222400</td>\n",
       "      <td>-34.855885</td>\n",
       "      <td>2018-10-02T14:38:53</td>\n",
       "    </tr>\n",
       "    <tr>\n",
       "      <th>1</th>\n",
       "      <td>984</td>\n",
       "      <td>540</td>\n",
       "      <td>-56.201860</td>\n",
       "      <td>-34.909360</td>\n",
       "      <td>2018-10-02T14:39:08</td>\n",
       "    </tr>\n",
       "    <tr>\n",
       "      <th>2</th>\n",
       "      <td>288</td>\n",
       "      <td>7898</td>\n",
       "      <td>-56.175415</td>\n",
       "      <td>-34.901110</td>\n",
       "      <td>2018-10-02T14:39:08</td>\n",
       "    </tr>\n",
       "    <tr>\n",
       "      <th>3</th>\n",
       "      <td>1111</td>\n",
       "      <td>254</td>\n",
       "      <td>-56.136640</td>\n",
       "      <td>-34.872833</td>\n",
       "      <td>2018-10-02T14:39:08</td>\n",
       "    </tr>\n",
       "    <tr>\n",
       "      <th>4</th>\n",
       "      <td>22</td>\n",
       "      <td>540</td>\n",
       "      <td>-56.135277</td>\n",
       "      <td>-34.845554</td>\n",
       "      <td>2018-10-02T14:39:08</td>\n",
       "    </tr>\n",
       "  </tbody>\n",
       "</table>\n",
       "</div>"
      ],
      "text/plain": [
       "     id  line  longitude   latitude            timestamp\n",
       "0    76   217 -56.222400 -34.855885  2018-10-02T14:38:53\n",
       "1   984   540 -56.201860 -34.909360  2018-10-02T14:39:08\n",
       "2   288  7898 -56.175415 -34.901110  2018-10-02T14:39:08\n",
       "3  1111   254 -56.136640 -34.872833  2018-10-02T14:39:08\n",
       "4    22   540 -56.135277 -34.845554  2018-10-02T14:39:08"
      ]
     },
     "execution_count": 63,
     "metadata": {},
     "output_type": "execute_result"
    }
   ],
   "source": [
    "raw_bus_data = raw_bus_data.drop(['busCode'], axis=1)\n",
    "raw_bus_data.head()"
   ]
  },
  {
   "cell_type": "markdown",
   "metadata": {},
   "source": [
    "Podemos ver que el timestamp esta en encoding ISO 8601, lo pasamos a un formato de date que puedamos trabajar con python"
   ]
  },
  {
   "cell_type": "code",
   "execution_count": 64,
   "metadata": {},
   "outputs": [
    {
     "data": {
      "text/html": [
       "<div>\n",
       "<style scoped>\n",
       "    .dataframe tbody tr th:only-of-type {\n",
       "        vertical-align: middle;\n",
       "    }\n",
       "\n",
       "    .dataframe tbody tr th {\n",
       "        vertical-align: top;\n",
       "    }\n",
       "\n",
       "    .dataframe thead th {\n",
       "        text-align: right;\n",
       "    }\n",
       "</style>\n",
       "<table border=\"1\" class=\"dataframe\">\n",
       "  <thead>\n",
       "    <tr style=\"text-align: right;\">\n",
       "      <th></th>\n",
       "      <th>id</th>\n",
       "      <th>line</th>\n",
       "      <th>longitude</th>\n",
       "      <th>latitude</th>\n",
       "      <th>timestamp</th>\n",
       "    </tr>\n",
       "  </thead>\n",
       "  <tbody>\n",
       "    <tr>\n",
       "      <th>0</th>\n",
       "      <td>76</td>\n",
       "      <td>217</td>\n",
       "      <td>-56.222400</td>\n",
       "      <td>-34.855885</td>\n",
       "      <td>2018-10-02 14:38:53</td>\n",
       "    </tr>\n",
       "    <tr>\n",
       "      <th>1</th>\n",
       "      <td>984</td>\n",
       "      <td>540</td>\n",
       "      <td>-56.201860</td>\n",
       "      <td>-34.909360</td>\n",
       "      <td>2018-10-02 14:39:08</td>\n",
       "    </tr>\n",
       "    <tr>\n",
       "      <th>2</th>\n",
       "      <td>288</td>\n",
       "      <td>7898</td>\n",
       "      <td>-56.175415</td>\n",
       "      <td>-34.901110</td>\n",
       "      <td>2018-10-02 14:39:08</td>\n",
       "    </tr>\n",
       "    <tr>\n",
       "      <th>3</th>\n",
       "      <td>1111</td>\n",
       "      <td>254</td>\n",
       "      <td>-56.136640</td>\n",
       "      <td>-34.872833</td>\n",
       "      <td>2018-10-02 14:39:08</td>\n",
       "    </tr>\n",
       "    <tr>\n",
       "      <th>4</th>\n",
       "      <td>22</td>\n",
       "      <td>540</td>\n",
       "      <td>-56.135277</td>\n",
       "      <td>-34.845554</td>\n",
       "      <td>2018-10-02 14:39:08</td>\n",
       "    </tr>\n",
       "  </tbody>\n",
       "</table>\n",
       "</div>"
      ],
      "text/plain": [
       "     id  line  longitude   latitude           timestamp\n",
       "0    76   217 -56.222400 -34.855885 2018-10-02 14:38:53\n",
       "1   984   540 -56.201860 -34.909360 2018-10-02 14:39:08\n",
       "2   288  7898 -56.175415 -34.901110 2018-10-02 14:39:08\n",
       "3  1111   254 -56.136640 -34.872833 2018-10-02 14:39:08\n",
       "4    22   540 -56.135277 -34.845554 2018-10-02 14:39:08"
      ]
     },
     "execution_count": 64,
     "metadata": {},
     "output_type": "execute_result"
    }
   ],
   "source": [
    "raw_bus_data.timestamp = raw_bus_data.timestamp.apply(lambda t: datetime.strptime(t,'%Y-%m-%dT%H:%M:%S'))\n",
    "raw_bus_data.head()"
   ]
  },
  {
   "cell_type": "markdown",
   "metadata": {},
   "source": [
    "Vamos a guardar los datos con los cambios realizados en `bus_data_stage_1.csv`"
   ]
  },
  {
   "cell_type": "code",
   "execution_count": 66,
   "metadata": {},
   "outputs": [],
   "source": [
    "raw_bus_data.to_csv('../data/bus_data_stage_1.csv')"
   ]
  }
 ],
 "metadata": {
  "kernelspec": {
   "display_name": "Python 3",
   "language": "python",
   "name": "python3"
  },
  "language_info": {
   "codemirror_mode": {
    "name": "ipython",
    "version": 3
   },
   "file_extension": ".py",
   "mimetype": "text/x-python",
   "name": "python",
   "nbconvert_exporter": "python",
   "pygments_lexer": "ipython3",
   "version": "3.5.5"
  }
 },
 "nbformat": 4,
 "nbformat_minor": 2
}
