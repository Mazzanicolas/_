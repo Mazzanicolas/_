{
 "cells": [
  {
   "cell_type": "markdown",
   "metadata": {},
   "source": [
    "# PCA"
   ]
  },
  {
   "cell_type": "markdown",
   "metadata": {},
   "source": [
    "Importando librerias"
   ]
  },
  {
   "cell_type": "code",
   "execution_count": 1,
   "metadata": {},
   "outputs": [],
   "source": [
    "import matplotlib\n",
    "import seaborn as sns\n",
    "import pandas as pd\n",
    "from sklearn.decomposition import PCA"
   ]
  },
  {
   "cell_type": "code",
   "execution_count": 2,
   "metadata": {},
   "outputs": [],
   "source": [
    "# Cargamos los datos\n",
    "data = pd.read_csv('breast-cancer.csv')\n",
    "# Eliminamos los atributos que no vamos a utilizar\n",
    "data = data.drop(['id'], axis=1)\n",
    "data = data[data.Bare_Nuclei!='?']\n",
    "# Convertimos los valores de Bare Nuclei en enteros\n",
    "data.Bare_Nuclei = data.Bare_Nuclei.apply(lambda x: int(x))"
   ]
  },
  {
   "cell_type": "code",
   "execution_count": 10,
   "metadata": {},
   "outputs": [
    {
     "data": {
      "text/html": [
       "<div>\n",
       "<style scoped>\n",
       "    .dataframe tbody tr th:only-of-type {\n",
       "        vertical-align: middle;\n",
       "    }\n",
       "\n",
       "    .dataframe tbody tr th {\n",
       "        vertical-align: top;\n",
       "    }\n",
       "\n",
       "    .dataframe thead th {\n",
       "        text-align: right;\n",
       "    }\n",
       "</style>\n",
       "<table border=\"1\" class=\"dataframe\">\n",
       "  <thead>\n",
       "    <tr style=\"text-align: right;\">\n",
       "      <th></th>\n",
       "      <th>Clump_Thickness</th>\n",
       "      <th>Uniformity_of_Cell_Size</th>\n",
       "      <th>Uniformity_of_Cell_Shape</th>\n",
       "      <th>Marginal_Adhesion</th>\n",
       "      <th>Single_Epithelial_Cell_Size</th>\n",
       "      <th>Bare_Nuclei</th>\n",
       "      <th>Bland_Chromatin</th>\n",
       "      <th>Normal_Nucleoli</th>\n",
       "      <th>Mitoses</th>\n",
       "    </tr>\n",
       "  </thead>\n",
       "  <tbody>\n",
       "    <tr>\n",
       "      <th>0</th>\n",
       "      <td>0.296736</td>\n",
       "      <td>0.403971</td>\n",
       "      <td>0.392759</td>\n",
       "      <td>0.331202</td>\n",
       "      <td>0.249740</td>\n",
       "      <td>0.442613</td>\n",
       "      <td>0.292078</td>\n",
       "      <td>0.354536</td>\n",
       "      <td>0.124576</td>\n",
       "    </tr>\n",
       "    <tr>\n",
       "      <th>1</th>\n",
       "      <td>-0.073507</td>\n",
       "      <td>0.229929</td>\n",
       "      <td>0.164701</td>\n",
       "      <td>-0.098198</td>\n",
       "      <td>0.200215</td>\n",
       "      <td>-0.780570</td>\n",
       "      <td>0.008480</td>\n",
       "      <td>0.469195</td>\n",
       "      <td>0.188069</td>\n",
       "    </tr>\n",
       "    <tr>\n",
       "      <th>2</th>\n",
       "      <td>-0.852009</td>\n",
       "      <td>-0.026274</td>\n",
       "      <td>-0.074455</td>\n",
       "      <td>0.473858</td>\n",
       "      <td>0.031656</td>\n",
       "      <td>0.093418</td>\n",
       "      <td>0.122412</td>\n",
       "      <td>0.133724</td>\n",
       "      <td>0.026631</td>\n",
       "    </tr>\n",
       "    <tr>\n",
       "      <th>3</th>\n",
       "      <td>0.047064</td>\n",
       "      <td>0.294619</td>\n",
       "      <td>0.206515</td>\n",
       "      <td>0.394199</td>\n",
       "      <td>0.188823</td>\n",
       "      <td>-0.294384</td>\n",
       "      <td>-0.041223</td>\n",
       "      <td>-0.753949</td>\n",
       "      <td>0.143139</td>\n",
       "    </tr>\n",
       "    <tr>\n",
       "      <th>4</th>\n",
       "      <td>-0.399765</td>\n",
       "      <td>0.337969</td>\n",
       "      <td>0.370151</td>\n",
       "      <td>-0.642499</td>\n",
       "      <td>0.195054</td>\n",
       "      <td>0.168674</td>\n",
       "      <td>0.092590</td>\n",
       "      <td>-0.196890</td>\n",
       "      <td>-0.249623</td>\n",
       "    </tr>\n",
       "  </tbody>\n",
       "</table>\n",
       "</div>"
      ],
      "text/plain": [
       "   Clump_Thickness  Uniformity_of_Cell_Size  Uniformity_of_Cell_Shape  \\\n",
       "0         0.296736                 0.403971                  0.392759   \n",
       "1        -0.073507                 0.229929                  0.164701   \n",
       "2        -0.852009                -0.026274                 -0.074455   \n",
       "3         0.047064                 0.294619                  0.206515   \n",
       "4        -0.399765                 0.337969                  0.370151   \n",
       "\n",
       "   Marginal_Adhesion  Single_Epithelial_Cell_Size  Bare_Nuclei  \\\n",
       "0           0.331202                     0.249740     0.442613   \n",
       "1          -0.098198                     0.200215    -0.780570   \n",
       "2           0.473858                     0.031656     0.093418   \n",
       "3           0.394199                     0.188823    -0.294384   \n",
       "4          -0.642499                     0.195054     0.168674   \n",
       "\n",
       "   Bland_Chromatin  Normal_Nucleoli   Mitoses  \n",
       "0         0.292078         0.354536  0.124576  \n",
       "1         0.008480         0.469195  0.188069  \n",
       "2         0.122412         0.133724  0.026631  \n",
       "3        -0.041223        -0.753949  0.143139  \n",
       "4         0.092590        -0.196890 -0.249623  "
      ]
     },
     "execution_count": 10,
     "metadata": {},
     "output_type": "execute_result"
    }
   ],
   "source": [
    "X = data.drop(['Class'], axis=1)\n",
    "pca = PCA(n_components=5)\n",
    "pca.fit(X)\n",
    "\n",
    "results = pd.DataFrame(pca.components_, columns=X.columns)\n",
    "results"
   ]
  },
  {
   "cell_type": "code",
   "execution_count": null,
   "metadata": {},
   "outputs": [],
   "source": []
  }
 ],
 "metadata": {
  "kernelspec": {
   "display_name": "Python 3",
   "language": "python",
   "name": "python3"
  },
  "language_info": {
   "codemirror_mode": {
    "name": "ipython",
    "version": 3
   },
   "file_extension": ".py",
   "mimetype": "text/x-python",
   "name": "python",
   "nbconvert_exporter": "python",
   "pygments_lexer": "ipython3",
   "version": "3.5.5"
  }
 },
 "nbformat": 4,
 "nbformat_minor": 2
}
